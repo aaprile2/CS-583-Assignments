{
 "cells": [
  {
   "cell_type": "markdown",
   "metadata": {
    "id": "5o5yYMbUr_YU"
   },
   "source": [
    "# Home 4: Build a CNN for image recognition.\n",
    "\n",
    "### Name: Allison Aprile\n"
   ]
  },
  {
   "cell_type": "markdown",
   "metadata": {
    "id": "4ii1n3wEr_Yc"
   },
   "source": [
    "## 0. You will do the following:\n",
    "\n",
    "1. Read, complete, and run the code.\n",
    "\n",
    "2. **Make substantial improvements** to maximize the accurcy.\n",
    "    \n",
    "3. Convert the .IPYNB file to .HTML file.\n",
    "\n",
    "    * The HTML file must contain the code and the output after execution.\n",
    "    \n",
    "    * Missing **the output after execution** will not be graded.\n",
    "    \n",
    "4. Upload this .HTML file to your Google Drive, Dropbox, or Github repo. (If you submit the file to Google Drive or Dropbox, you must make the file \"open-access\". The delay caused by \"deny of access\" may result in late penalty.)\n",
    "\n",
    "4. Submit the link to this .HTML file to Canvas.\n",
    "\n",
    "    * Example: https://github.com/wangshusen/CS583-2020S/blob/master/homework/HM4/HM4.html\n",
    "\n",
    "\n",
    "## Requirements:\n",
    "\n",
    "1. You can use whatever CNN architecture, including VGG, Inception, and ResNet. However, you must build the networks layer by layer. You must NOT import the archetectures from ```keras.applications```.\n",
    "\n",
    "2. Make sure ```BatchNormalization``` is between a ```Conv```/```Dense``` layer and an ```activation``` layer.\n",
    "\n",
    "3. If you want to regularize a ```Conv```/```Dense``` layer, you should place a ```Dropout``` layer **before** the ```Conv```/```Dense``` layer.\n",
    "\n",
    "4. An accuracy above 70% is considered reasonable. An accuracy above 80% is considered good. Without data augmentation, achieving 80% accuracy is difficult.\n",
    "\n",
    "\n",
    "## Google Colab\n",
    "\n",
    "- If you do not have GPU, the training of a CNN can be slow. Google Colab is a good option.\n",
    "\n",
    "- Keep in mind that you must download it as an IPYNB file and then use IPython Notebook to convert it to HTML.\n",
    "\n",
    "- Also keep in mind that the IPYNB and HTML files must contain the outputs. (Otherwise, the instructor will not be able to know the correctness and performance.) Do the followings to keep the outputs.\n",
    "\n",
    "- In Colab, go to ```Runtime``` --> ```Change runtime type``` --> Do NOT check ```Omit code cell output when saving this notebook```. In this way, the downloaded IPYNB file contains the outputs."
   ]
  },
  {
   "cell_type": "markdown",
   "metadata": {
    "id": "6lcy1xa8r_Yd"
   },
   "source": [
    "## 1. Data preparation"
   ]
  },
  {
   "cell_type": "markdown",
   "metadata": {
    "id": "pN3hFS2Hr_Yd"
   },
   "source": [
    "### 1.1. Load data\n"
   ]
  },
  {
   "cell_type": "code",
   "execution_count": 18,
   "metadata": {
    "colab": {
     "base_uri": "https://localhost:8080/"
    },
    "id": "w879aaG5r_Yd",
    "outputId": "7c98a00f-0a68-46aa-ce9d-706eef4e5ccb"
   },
   "outputs": [
    {
     "name": "stdout",
     "output_type": "stream",
     "text": [
      "shape of x_train: (50000, 32, 32, 3)\n",
      "shape of y_train: (50000, 1)\n",
      "shape of x_test: (10000, 32, 32, 3)\n",
      "shape of y_test: (10000, 1)\n",
      "number of classes: 10\n"
     ]
    }
   ],
   "source": [
    "from keras.datasets import cifar10\n",
    "import numpy\n",
    "\n",
    "(x_train, y_train), (x_test, y_test) = cifar10.load_data()\n",
    "\n",
    "print('shape of x_train: ' + str(x_train.shape))\n",
    "print('shape of y_train: ' + str(y_train.shape))\n",
    "print('shape of x_test: ' + str(x_test.shape))\n",
    "print('shape of y_test: ' + str(y_test.shape))\n",
    "print('number of classes: ' + str(numpy.max(y_train) - numpy.min(y_train) + 1))"
   ]
  },
  {
   "cell_type": "markdown",
   "metadata": {
    "id": "vZx0tJmNr_Ye"
   },
   "source": [
    "### 1.2. One-hot encode the labels\n",
    "\n",
    "In the input, a label is a scalar in $\\{0, 1, \\cdots , 9\\}$. One-hot encode transform such a scalar to a $10$-dim vector. E.g., a scalar ```y_train[j]=3``` is transformed to the vector ```y_train_vec[j]=[0, 0, 0, 1, 0, 0, 0, 0, 0, 0]```.\n",
    "\n",
    "1. Define a function ```to_one_hot``` that transforms an $n\\times 1$ array to a $n\\times 10$ matrix.\n",
    "\n",
    "2. Apply the function to ```y_train``` and ```y_test```."
   ]
  },
  {
   "cell_type": "code",
   "execution_count": 19,
   "metadata": {
    "colab": {
     "base_uri": "https://localhost:8080/"
    },
    "id": "NNciE_jKr_Yf",
    "outputId": "dc8d879e-991a-4a04-bddb-f9f737540053"
   },
   "outputs": [
    {
     "name": "stdout",
     "output_type": "stream",
     "text": [
      "Shape of y_train_vec: (50000, 10)\n",
      "Shape of y_test_vec: (10000, 10)\n",
      "[6]\n",
      "[0. 0. 0. 0. 0. 0. 1. 0. 0. 0.]\n"
     ]
    }
   ],
   "source": [
    "def to_one_hot(y, num_class=10):\n",
    "    # Initialize matrix of zeros - shape (n x 10)\n",
    "    one_hot = numpy.zeros((len(y), num_class))\n",
    "\n",
    "    # Change element to 1 where second dimension corresponds to label\n",
    "    for i, label in enumerate(y):\n",
    "        one_hot[i, label] = 1.\n",
    "    \n",
    "    return one_hot\n",
    "\n",
    "y_train_vec = to_one_hot(y_train)\n",
    "y_test_vec = to_one_hot(y_test)\n",
    "\n",
    "print('Shape of y_train_vec: ' + str(y_train_vec.shape))\n",
    "print('Shape of y_test_vec: ' + str(y_test_vec.shape))\n",
    "\n",
    "print(y_train[0])\n",
    "print(y_train_vec[0])"
   ]
  },
  {
   "cell_type": "markdown",
   "metadata": {
    "id": "fItgqp9tr_Yf"
   },
   "source": [
    "#### Remark: the outputs should be\n",
    "* Shape of y_train_vec: (50000, 10)\n",
    "* Shape of y_test_vec: (10000, 10)\n",
    "* [6]\n",
    "* [0. 0. 0. 0. 0. 0. 1. 0. 0. 0.]"
   ]
  },
  {
   "cell_type": "markdown",
   "metadata": {
    "id": "U-DXHPG7r_Yg"
   },
   "source": [
    "### 1.3. Randomly partition the training set to training and validation sets\n",
    "\n",
    "Randomly partition the 50K training samples to 2 sets:\n",
    "* a training set containing 40K samples\n",
    "* a validation set containing 10K samples\n"
   ]
  },
  {
   "cell_type": "code",
   "execution_count": 20,
   "metadata": {
    "colab": {
     "base_uri": "https://localhost:8080/"
    },
    "id": "xASYr6Hlr_Yg",
    "outputId": "51352ecd-74ef-4072-a1ab-1e7ccd672456"
   },
   "outputs": [
    {
     "name": "stdout",
     "output_type": "stream",
     "text": [
      "Shape of x_tr: (40000, 32, 32, 3)\n",
      "Shape of y_tr: (40000, 10)\n",
      "Shape of x_val: (10000, 32, 32, 3)\n",
      "Shape of y_val: (10000, 10)\n"
     ]
    }
   ],
   "source": [
    "rand_indices = numpy.random.permutation(50000)\n",
    "train_indices = rand_indices[0:40000]\n",
    "valid_indices = rand_indices[40000:50000]\n",
    "\n",
    "x_val = x_train[valid_indices, :]\n",
    "y_val = y_train_vec[valid_indices, :]\n",
    "\n",
    "x_tr = x_train[train_indices, :]\n",
    "y_tr = y_train_vec[train_indices, :]\n",
    "\n",
    "print('Shape of x_tr: ' + str(x_tr.shape))\n",
    "print('Shape of y_tr: ' + str(y_tr.shape))\n",
    "print('Shape of x_val: ' + str(x_val.shape))\n",
    "print('Shape of y_val: ' + str(y_val.shape))"
   ]
  },
  {
   "cell_type": "markdown",
   "metadata": {
    "id": "771NCwZJr_Yh"
   },
   "source": [
    "## 2. Build a CNN and tune its hyper-parameters\n",
    "\n",
    "1. Build a convolutional neural network model\n",
    "2. Use the validation data to tune the hyper-parameters (e.g., network structure, and optimization algorithm)\n",
    "    * Do NOT use test data for hyper-parameter tuning!!!\n",
    "3. Try to achieve a validation accuracy as high as possible."
   ]
  },
  {
   "cell_type": "markdown",
   "metadata": {
    "id": "WiV-5yjgr_Yh"
   },
   "source": [
    "### Remark: \n",
    "\n",
    "The following CNN is just an example. You are supposed to make **substantial improvements** such as:\n",
    "* Add more layers.\n",
    "* Use regularizations, e.g., dropout.\n",
    "* Use batch normalization."
   ]
  },
  {
   "cell_type": "markdown",
   "metadata": {
    "id": "03CQm3b3IBIF"
   },
   "source": [
    "<font color='navy'>Of all the architectures discussed in class, VGG16 is the most feasible to implement for this assignment. It is not as deep as Inception or ResNet (and therefore, won't require as much training time), but still had fair performance in the ImageNet competition. \n",
    "\n",
    "<font color='navy'>The classic VGG16 architecture includes 13 convolutional blocks and 2 fully-connected layers. I will eliminate/add layers and batch normalization/dropout as needed."
   ]
  },
  {
   "cell_type": "code",
   "execution_count": 38,
   "metadata": {
    "colab": {
     "base_uri": "https://localhost:8080/"
    },
    "id": "brL6iwTFr_Yh",
    "outputId": "cfbeb62e-6d17-430a-ea8e-f66e0d7b9472"
   },
   "outputs": [
    {
     "name": "stdout",
     "output_type": "stream",
     "text": [
      "Model: \"sequential_8\"\n",
      "_________________________________________________________________\n",
      "Layer (type)                 Output Shape              Param #   \n",
      "=================================================================\n",
      "conv2d_36 (Conv2D)           (None, 32, 32, 32)        896       \n",
      "_________________________________________________________________\n",
      "batch_normalization_27 (Batc (None, 32, 32, 32)        128       \n",
      "_________________________________________________________________\n",
      "activation_27 (Activation)   (None, 32, 32, 32)        0         \n",
      "_________________________________________________________________\n",
      "conv2d_37 (Conv2D)           (None, 32, 32, 32)        9248      \n",
      "_________________________________________________________________\n",
      "max_pooling2d_26 (MaxPooling (None, 16, 16, 32)        0         \n",
      "_________________________________________________________________\n",
      "conv2d_38 (Conv2D)           (None, 16, 16, 64)        18496     \n",
      "_________________________________________________________________\n",
      "batch_normalization_28 (Batc (None, 16, 16, 64)        256       \n",
      "_________________________________________________________________\n",
      "activation_28 (Activation)   (None, 16, 16, 64)        0         \n",
      "_________________________________________________________________\n",
      "conv2d_39 (Conv2D)           (None, 16, 16, 64)        36928     \n",
      "_________________________________________________________________\n",
      "max_pooling2d_27 (MaxPooling (None, 8, 8, 64)          0         \n",
      "_________________________________________________________________\n",
      "conv2d_40 (Conv2D)           (None, 8, 8, 128)         73856     \n",
      "_________________________________________________________________\n",
      "batch_normalization_29 (Batc (None, 8, 8, 128)         512       \n",
      "_________________________________________________________________\n",
      "activation_29 (Activation)   (None, 8, 8, 128)         0         \n",
      "_________________________________________________________________\n",
      "conv2d_41 (Conv2D)           (None, 8, 8, 128)         147584    \n",
      "_________________________________________________________________\n",
      "max_pooling2d_28 (MaxPooling (None, 4, 4, 128)         0         \n",
      "_________________________________________________________________\n",
      "flatten_8 (Flatten)          (None, 2048)              0         \n",
      "_________________________________________________________________\n",
      "dropout_7 (Dropout)          (None, 2048)              0         \n",
      "_________________________________________________________________\n",
      "dense_14 (Dense)             (None, 128)               262272    \n",
      "_________________________________________________________________\n",
      "dense_15 (Dense)             (None, 10)                1290      \n",
      "=================================================================\n",
      "Total params: 551,466\n",
      "Trainable params: 551,018\n",
      "Non-trainable params: 448\n",
      "_________________________________________________________________\n"
     ]
    }
   ],
   "source": [
    "from keras.layers import Conv2D, MaxPooling2D, Flatten, Dense, Activation, BatchNormalization, Dropout\n",
    "from keras.models import Sequential\n",
    "\n",
    "'''\n",
    "Basing network loosely off of VGG architecture \n",
    "'''\n",
    "model = Sequential()\n",
    "model.add(Conv2D(32, (3, 3), padding='same', input_shape=(32, 32, 3))) # Convolutional layer\n",
    "model.add(BatchNormalization()) # Batch normalization (for feature scaling hidden layers)\n",
    "model.add(Activation('relu')) # Activation function\n",
    "\n",
    "model.add(Conv2D(32, (3,3), padding='same', activation='relu'))\n",
    "\n",
    "model.add(MaxPooling2D((2, 2))) # Pooling layer\n",
    "\n",
    "# Repeat blocks with increasing filter sizes\n",
    "model.add(Conv2D(64, (3, 3), padding='same'))\n",
    "model.add(BatchNormalization())\n",
    "model.add(Activation('relu'))\n",
    "\n",
    "model.add(Conv2D(64, (3,3), padding='same', activation='relu'))\n",
    "\n",
    "model.add(MaxPooling2D((2, 2)))\n",
    "\n",
    "\n",
    "model.add(Conv2D(128, (3,3), padding='same'))\n",
    "model.add(BatchNormalization())\n",
    "model.add(Activation('relu'))\n",
    "\n",
    "model.add(Conv2D(128, (3,3), padding='same', activation='relu'))\n",
    "\n",
    "model.add(MaxPooling2D((2,2)))\n",
    "\n",
    "# Flatten vector for input into Dense layers\n",
    "model.add(Flatten())\n",
    "\n",
    "# Add 0.5 Dropout for regularization\n",
    "model.add(Dropout(0.5))\n",
    "model.add(Dense(128, activation='relu'))\n",
    "model.add(Dense(10, activation='softmax'))\n",
    "\n",
    "model.summary()"
   ]
  },
  {
   "cell_type": "markdown",
   "metadata": {
    "id": "q6KdcEWJEtYF"
   },
   "source": [
    "<font color='navy'>After fitting the model with different combinations of learning rates and optimizers, I decided on a 0.001 learning rate and SGD optimizer. Because this part is only trained on a subset of the data, I ran it for 50 epochs to evaluate any points of overfitting and to get a fair idea of how the architecture would affect the validation performance."
   ]
  },
  {
   "cell_type": "code",
   "execution_count": 25,
   "metadata": {
    "id": "3f6ESoqxr_Yi"
   },
   "outputs": [],
   "source": [
    "from keras import optimizers\n",
    "\n",
    "learning_rate = 1E-3 # to be tuned! (1E-4 gave similar performance)\n",
    "\n",
    "model.compile(loss='categorical_crossentropy',\n",
    "              optimizer=optimizers.SGD(lr=learning_rate),    # Changed to SGD optimizer because seemed to train better\n",
    "              metrics=['acc'])"
   ]
  },
  {
   "cell_type": "code",
   "execution_count": 26,
   "metadata": {
    "colab": {
     "base_uri": "https://localhost:8080/"
    },
    "id": "TT8uI1hOr_Yi",
    "outputId": "c2777c2f-c946-43dd-ed3a-1e6f8486b63a"
   },
   "outputs": [
    {
     "name": "stdout",
     "output_type": "stream",
     "text": [
      "Epoch 1/50\n",
      "1250/1250 [==============================] - 308s 246ms/step - loss: 2.2185 - acc: 0.2036 - val_loss: 1.6642 - val_acc: 0.3986\n",
      "Epoch 2/50\n",
      "1250/1250 [==============================] - 305s 244ms/step - loss: 1.7247 - acc: 0.3580 - val_loss: 1.5150 - val_acc: 0.4507\n",
      "Epoch 3/50\n",
      "1250/1250 [==============================] - 303s 242ms/step - loss: 1.5565 - acc: 0.4291 - val_loss: 1.4155 - val_acc: 0.4829\n",
      "Epoch 4/50\n",
      "1250/1250 [==============================] - 302s 242ms/step - loss: 1.4644 - acc: 0.4670 - val_loss: 1.3919 - val_acc: 0.4954\n",
      "Epoch 5/50\n",
      "1250/1250 [==============================] - 306s 245ms/step - loss: 1.3936 - acc: 0.4915 - val_loss: 1.3138 - val_acc: 0.5276\n",
      "Epoch 6/50\n",
      "1250/1250 [==============================] - 303s 242ms/step - loss: 1.3155 - acc: 0.5219 - val_loss: 1.3005 - val_acc: 0.5340\n",
      "Epoch 7/50\n",
      "1250/1250 [==============================] - 301s 241ms/step - loss: 1.2586 - acc: 0.5453 - val_loss: 1.1922 - val_acc: 0.5731\n",
      "Epoch 8/50\n",
      "1250/1250 [==============================] - 303s 242ms/step - loss: 1.2188 - acc: 0.5589 - val_loss: 1.1358 - val_acc: 0.5942\n",
      "Epoch 9/50\n",
      "1250/1250 [==============================] - 303s 242ms/step - loss: 1.1655 - acc: 0.5810 - val_loss: 1.1476 - val_acc: 0.5892\n",
      "Epoch 10/50\n",
      "1250/1250 [==============================] - 302s 242ms/step - loss: 1.1228 - acc: 0.5953 - val_loss: 1.0962 - val_acc: 0.6098\n",
      "Epoch 11/50\n",
      "1250/1250 [==============================] - 301s 241ms/step - loss: 1.0778 - acc: 0.6147 - val_loss: 1.0575 - val_acc: 0.6225\n",
      "Epoch 12/50\n",
      "1250/1250 [==============================] - 301s 241ms/step - loss: 1.0493 - acc: 0.6227 - val_loss: 1.0562 - val_acc: 0.6180\n",
      "Epoch 13/50\n",
      "1250/1250 [==============================] - 302s 241ms/step - loss: 1.0100 - acc: 0.6375 - val_loss: 1.1217 - val_acc: 0.5997\n",
      "Epoch 14/50\n",
      "1250/1250 [==============================] - 304s 243ms/step - loss: 0.9758 - acc: 0.6476 - val_loss: 1.0057 - val_acc: 0.6345\n",
      "Epoch 15/50\n",
      "1250/1250 [==============================] - 303s 242ms/step - loss: 0.9541 - acc: 0.6600 - val_loss: 1.0407 - val_acc: 0.6305\n",
      "Epoch 16/50\n",
      "1250/1250 [==============================] - 301s 241ms/step - loss: 0.9326 - acc: 0.6679 - val_loss: 1.0171 - val_acc: 0.6365\n",
      "Epoch 17/50\n",
      "1250/1250 [==============================] - 299s 239ms/step - loss: 0.9017 - acc: 0.6769 - val_loss: 0.9259 - val_acc: 0.6749\n",
      "Epoch 18/50\n",
      "1250/1250 [==============================] - 307s 245ms/step - loss: 0.8904 - acc: 0.6811 - val_loss: 0.9290 - val_acc: 0.6635\n",
      "Epoch 19/50\n",
      "1250/1250 [==============================] - 305s 244ms/step - loss: 0.8632 - acc: 0.6928 - val_loss: 0.9015 - val_acc: 0.6762\n",
      "Epoch 20/50\n",
      "1250/1250 [==============================] - 308s 246ms/step - loss: 0.8348 - acc: 0.7034 - val_loss: 0.8665 - val_acc: 0.6919\n",
      "Epoch 21/50\n",
      "1250/1250 [==============================] - 308s 247ms/step - loss: 0.8071 - acc: 0.7132 - val_loss: 0.8838 - val_acc: 0.6817\n",
      "Epoch 22/50\n",
      "1250/1250 [==============================] - 305s 244ms/step - loss: 0.7917 - acc: 0.7209 - val_loss: 0.8589 - val_acc: 0.6928\n",
      "Epoch 23/50\n",
      "1250/1250 [==============================] - 302s 241ms/step - loss: 0.7791 - acc: 0.7198 - val_loss: 0.8985 - val_acc: 0.6814\n",
      "Epoch 24/50\n",
      "1250/1250 [==============================] - 301s 241ms/step - loss: 0.7609 - acc: 0.7307 - val_loss: 0.8155 - val_acc: 0.7113\n",
      "Epoch 25/50\n",
      "1250/1250 [==============================] - 299s 239ms/step - loss: 0.7433 - acc: 0.7341 - val_loss: 0.8466 - val_acc: 0.6991\n",
      "Epoch 26/50\n",
      "1250/1250 [==============================] - 303s 243ms/step - loss: 0.7314 - acc: 0.7425 - val_loss: 0.8366 - val_acc: 0.7048\n",
      "Epoch 27/50\n",
      "1250/1250 [==============================] - 304s 243ms/step - loss: 0.7242 - acc: 0.7437 - val_loss: 0.8439 - val_acc: 0.7013\n",
      "Epoch 28/50\n",
      "1250/1250 [==============================] - 304s 243ms/step - loss: 0.7029 - acc: 0.7518 - val_loss: 0.7886 - val_acc: 0.7178\n",
      "Epoch 29/50\n",
      "1250/1250 [==============================] - 307s 246ms/step - loss: 0.6877 - acc: 0.7564 - val_loss: 0.7799 - val_acc: 0.7209\n",
      "Epoch 30/50\n",
      "1250/1250 [==============================] - 308s 246ms/step - loss: 0.6677 - acc: 0.7642 - val_loss: 0.8861 - val_acc: 0.6914\n",
      "Epoch 31/50\n",
      "1250/1250 [==============================] - 308s 247ms/step - loss: 0.6657 - acc: 0.7629 - val_loss: 0.7584 - val_acc: 0.7319\n",
      "Epoch 32/50\n",
      "1250/1250 [==============================] - 312s 250ms/step - loss: 0.6575 - acc: 0.7660 - val_loss: 0.7684 - val_acc: 0.7304\n",
      "Epoch 33/50\n",
      "1250/1250 [==============================] - 307s 245ms/step - loss: 0.6431 - acc: 0.7731 - val_loss: 0.7974 - val_acc: 0.7171\n",
      "Epoch 34/50\n",
      "1250/1250 [==============================] - 305s 244ms/step - loss: 0.6329 - acc: 0.7764 - val_loss: 0.7789 - val_acc: 0.7228\n",
      "Epoch 35/50\n",
      "1250/1250 [==============================] - 295s 236ms/step - loss: 0.6205 - acc: 0.7779 - val_loss: 0.8263 - val_acc: 0.7101\n",
      "Epoch 36/50\n",
      "1250/1250 [==============================] - 295s 236ms/step - loss: 0.6042 - acc: 0.7854 - val_loss: 0.7556 - val_acc: 0.7317\n",
      "Epoch 37/50\n",
      "1250/1250 [==============================] - 297s 238ms/step - loss: 0.5841 - acc: 0.7935 - val_loss: 0.7525 - val_acc: 0.7364\n",
      "Epoch 38/50\n",
      "1250/1250 [==============================] - 302s 242ms/step - loss: 0.5762 - acc: 0.7975 - val_loss: 0.8883 - val_acc: 0.6937\n",
      "Epoch 39/50\n",
      "1250/1250 [==============================] - 304s 244ms/step - loss: 0.5692 - acc: 0.8003 - val_loss: 0.7462 - val_acc: 0.7420\n",
      "Epoch 40/50\n",
      "1250/1250 [==============================] - 304s 243ms/step - loss: 0.5635 - acc: 0.8009 - val_loss: 0.7086 - val_acc: 0.7489\n",
      "Epoch 41/50\n",
      "1250/1250 [==============================] - 300s 240ms/step - loss: 0.5529 - acc: 0.8069 - val_loss: 0.8210 - val_acc: 0.7175\n",
      "Epoch 42/50\n",
      "1250/1250 [==============================] - 293s 234ms/step - loss: 0.5513 - acc: 0.8064 - val_loss: 0.7554 - val_acc: 0.7373\n",
      "Epoch 43/50\n",
      "1250/1250 [==============================] - 294s 235ms/step - loss: 0.5291 - acc: 0.8125 - val_loss: 0.7311 - val_acc: 0.7472\n",
      "Epoch 44/50\n",
      "1250/1250 [==============================] - 295s 236ms/step - loss: 0.5288 - acc: 0.8125 - val_loss: 0.7440 - val_acc: 0.7458\n",
      "Epoch 45/50\n",
      "1250/1250 [==============================] - 300s 240ms/step - loss: 0.5074 - acc: 0.8217 - val_loss: 0.7218 - val_acc: 0.7529\n",
      "Epoch 46/50\n",
      "1250/1250 [==============================] - 305s 244ms/step - loss: 0.5013 - acc: 0.8270 - val_loss: 0.8574 - val_acc: 0.7100\n",
      "Epoch 47/50\n",
      "1250/1250 [==============================] - 304s 243ms/step - loss: 0.4955 - acc: 0.8234 - val_loss: 0.7098 - val_acc: 0.7527\n",
      "Epoch 48/50\n",
      "1250/1250 [==============================] - 303s 243ms/step - loss: 0.4905 - acc: 0.8253 - val_loss: 0.7309 - val_acc: 0.7502\n",
      "Epoch 49/50\n",
      "1250/1250 [==============================] - 302s 242ms/step - loss: 0.4749 - acc: 0.8308 - val_loss: 0.7528 - val_acc: 0.7430\n",
      "Epoch 50/50\n",
      "1250/1250 [==============================] - 302s 242ms/step - loss: 0.4705 - acc: 0.8351 - val_loss: 0.7290 - val_acc: 0.7514\n"
     ]
    }
   ],
   "source": [
    "# Train model - updated to 50 epochs\n",
    "history = model.fit(x_tr, y_tr, batch_size=32, epochs=50, validation_data=(x_val, y_val))"
   ]
  },
  {
   "cell_type": "code",
   "execution_count": 27,
   "metadata": {
    "colab": {
     "base_uri": "https://localhost:8080/",
     "height": 279
    },
    "id": "-MbgRJHur_Yi",
    "outputId": "c7175d51-cdf9-48fd-ae0d-d67227338ea6"
   },
   "outputs": [
    {
     "data": {
      "image/png": "[encoded data removed]",
      "text/plain": [
       "<Figure size 432x288 with 1 Axes>"
      ]
     },
     "metadata": {
      "needs_background": "light",
      "tags": []
     },
     "output_type": "display_data"
    }
   ],
   "source": [
    "import matplotlib.pyplot as plt\n",
    "%matplotlib inline\n",
    "\n",
    "acc = history.history['acc']\n",
    "val_acc = history.history['val_acc']\n",
    "\n",
    "epochs = range(len(acc))\n",
    "\n",
    "plt.plot(epochs, acc, 'bo', label='Training acc')\n",
    "plt.plot(epochs, val_acc, 'r', label='Validation acc')\n",
    "plt.xlabel('Epochs')\n",
    "plt.ylabel('Accuracy')\n",
    "plt.legend()\n",
    "plt.show()"
   ]
  },
  {
   "cell_type": "code",
   "execution_count": 28,
   "metadata": {
    "colab": {
     "base_uri": "https://localhost:8080/"
    },
    "id": "Xx1bdbpkDeSe",
    "outputId": "ecbf8e61-f5c7-4a73-85cd-819ff644583e"
   },
   "outputs": [
    {
     "name": "stdout",
     "output_type": "stream",
     "text": [
      "INFO:tensorflow:Assets written to: Users/aaprile/Desktop/partial_trained_model/assets\n"
     ]
    }
   ],
   "source": [
    "# Save model\n",
    "model.save('Users/aaprile/Desktop/partial_trained_model')"
   ]
  },
  {
   "cell_type": "markdown",
   "metadata": {
    "id": "Q9p8pxn3r_Yj"
   },
   "source": [
    "## 3. Train (again) and evaluate the model\n",
    "\n",
    "- To this end, you have found the \"best\" hyper-parameters. \n",
    "- Now, fix the hyper-parameters and train the network on the entire training set (all the 50K training samples)\n",
    "- Evaluate your model on the test set."
   ]
  },
  {
   "cell_type": "markdown",
   "metadata": {
    "id": "Nyzf8DqLr_Yj"
   },
   "source": [
    "### 3.1. Train the model on the entire training set\n",
    "\n",
    "Why? Previously, you used 40K samples for training; you wasted 10K samples for the sake of hyper-parameter tuning. Now you already know the hyper-parameters, so why not using all the 50K samples for training?"
   ]
  },
  {
   "cell_type": "markdown",
   "metadata": {
    "id": "lKPauUIzFNUC"
   },
   "source": [
    "<font color='navy'>This time, I trained the model for only 10 epochs and added a momentum to the optimizer. Although it could have continued for a few more epochs, without the validation set I decided to stop once it hit a loss close to the minimum in the above to avoid overfitting."
   ]
  },
  {
   "cell_type": "code",
   "execution_count": 39,
   "metadata": {
    "id": "s3iRmW0cr_Yk"
   },
   "outputs": [],
   "source": [
    "# Recompile model, add momentum to optimizer\n",
    "model.compile(loss='categorical_crossentropy',\n",
    "              optimizer=optimizers.SGD(lr=learning_rate, momentum=0.9),    \n",
    "              metrics=['acc'])"
   ]
  },
  {
   "cell_type": "code",
   "execution_count": 40,
   "metadata": {
    "colab": {
     "base_uri": "https://localhost:8080/"
    },
    "id": "Z9rggmVkr_Yl",
    "outputId": "d79602b5-4cf1-4119-c4cd-4d438da984da"
   },
   "outputs": [
    {
     "name": "stdout",
     "output_type": "stream",
     "text": [
      "Epoch 1/10\n",
      "1563/1563 [==============================] - 358s 228ms/step - loss: 1.8028 - acc: 0.3429\n",
      "Epoch 2/10\n",
      "1563/1563 [==============================] - 356s 228ms/step - loss: 1.2242 - acc: 0.5578\n",
      "Epoch 3/10\n",
      "1563/1563 [==============================] - 355s 227ms/step - loss: 1.0057 - acc: 0.6421\n",
      "Epoch 4/10\n",
      "1563/1563 [==============================] - 353s 226ms/step - loss: 0.8574 - acc: 0.6949\n",
      "Epoch 5/10\n",
      "1563/1563 [==============================] - 359s 229ms/step - loss: 0.7680 - acc: 0.7272\n",
      "Epoch 6/10\n",
      "1563/1563 [==============================] - 359s 230ms/step - loss: 0.7045 - acc: 0.7526\n",
      "Epoch 7/10\n",
      "1563/1563 [==============================] - 357s 229ms/step - loss: 0.6440 - acc: 0.7726\n",
      "Epoch 8/10\n",
      "1563/1563 [==============================] - 353s 226ms/step - loss: 0.5914 - acc: 0.7894\n",
      "Epoch 9/10\n",
      "1563/1563 [==============================] - 347s 222ms/step - loss: 0.5436 - acc: 0.8064\n",
      "Epoch 10/10\n",
      "1563/1563 [==============================] - 354s 227ms/step - loss: 0.5165 - acc: 0.8178\n"
     ]
    }
   ],
   "source": [
    "# Train model on entire training set (50K samples)\n",
    "history = model.fit(x_train, y_train_vec, batch_size=32, epochs=10)"
   ]
  },
  {
   "cell_type": "markdown",
   "metadata": {
    "id": "uBsUHJeBr_Yl"
   },
   "source": [
    "### 3.2. Evaluate the model on the test set\n",
    "\n",
    "Do NOT used the test set until now. Make sure that your model parameters and hyper-parameters are independent of the test set."
   ]
  },
  {
   "cell_type": "code",
   "execution_count": 41,
   "metadata": {
    "colab": {
     "base_uri": "https://localhost:8080/"
    },
    "id": "zrxtFtScr_Ym",
    "outputId": "65d72c98-0929-40e2-dce2-1e2c19adb0a6"
   },
   "outputs": [
    {
     "name": "stdout",
     "output_type": "stream",
     "text": [
      "313/313 [==============================] - 17s 53ms/step - loss: 0.6402 - acc: 0.7835\n",
      "loss = 0.6402202844619751\n",
      "accuracy = 0.7835000157356262\n"
     ]
    }
   ],
   "source": [
    "loss_and_acc = model.evaluate(x_test, y_test_vec)\n",
    "print('loss = ' + str(loss_and_acc[0]))\n",
    "print('accuracy = ' + str(loss_and_acc[1]))"
   ]
  }
 ],
 "metadata": {
  "colab": {
   "collapsed_sections": [],
   "name": "HM4_Aprile.ipynb",
   "provenance": []
  },
  "kernelspec": {
   "display_name": "Python 3",
   "language": "python",
   "name": "python3"
  },
  "language_info": {
   "codemirror_mode": {
    "name": "ipython",
    "version": 3
   },
   "file_extension": ".py",
   "mimetype": "text/x-python",
   "name": "python",
   "nbconvert_exporter": "python",
   "pygments_lexer": "ipython3",
   "version": "3.8.5"
  }
 },
 "nbformat": 4,
 "nbformat_minor": 1
}
