{
 "cells": [
  {
   "cell_type": "markdown",
   "metadata": {},
   "source": [
    "# Bonus1: Parallel Algorithms\n",
    "\n",
    "### Name: Allison Aprile\n"
   ]
  },
  {
   "cell_type": "markdown",
   "metadata": {},
   "source": [
    "## 0. You will do the following:\n",
    "\n",
    "1. Read the lecture note: [click here](https://github.com/wangshusen/DeepLearning/blob/master/LectureNotes/Parallel/Parallel.pdf)\n",
    "\n",
    "2. Implement federated averaging or decentralized optimization.\n",
    "\n",
    "3. Plot the convergence curve. (The x-axis can be ```number of epochs``` or ```number of communication```. You must make sure the label is correct.)\n",
    "\n",
    "4. Convert the .IPYNB file to .HTML file.\n",
    "\n",
    "    * The HTML file must contain **the code** and **the output after execution**.\n",
    "    \n",
    "5. Upload this .HTML file to your Google Drive, Dropbox, or your Github repo. (If it is submitted to Google Drive or Dropbox, you must make the file open-access.)\n",
    "\n",
    "6. Submit the link to this .HTML file to Canvas.\n",
    "\n",
    "    * Example: https://github.com/wangshusen/CS583-2020S/blob/master/homework/Bonus1/Bonus1.html\n",
    "\n"
   ]
  },
  {
   "cell_type": "markdown",
   "metadata": {},
   "source": [
    "# 1. Data processing\n",
    "\n",
    "- Download the Diabete dataset from https://www.csie.ntu.edu.tw/~cjlin/libsvmtools/datasets/binary/diabetes\n",
    "- Load the data using sklearn.\n",
    "- Preprocess the data."
   ]
  },
  {
   "cell_type": "markdown",
   "metadata": {},
   "source": [
    "## 1.1. Load the data"
   ]
  },
  {
   "cell_type": "code",
   "execution_count": 118,
   "metadata": {},
   "outputs": [
    {
     "name": "stdout",
     "output_type": "stream",
     "text": [
      "Shape of x: (768, 8)\n",
      "Shape of y: (768,)\n"
     ]
    }
   ],
   "source": [
    "from sklearn import datasets\n",
    "import numpy\n",
    "\n",
    "x_sparse, y = datasets.load_svmlight_file('diabetes')\n",
    "x = x_sparse.todense()\n",
    "\n",
    "print('Shape of x: ' + str(x.shape))\n",
    "print('Shape of y: ' + str(y.shape))"
   ]
  },
  {
   "cell_type": "markdown",
   "metadata": {},
   "source": [
    "## 1.2. Partition to training and test sets"
   ]
  },
  {
   "cell_type": "code",
   "execution_count": 119,
   "metadata": {},
   "outputs": [
    {
     "name": "stdout",
     "output_type": "stream",
     "text": [
      "Shape of x_train: (640, 8)\n",
      "Shape of x_test: (128, 8)\n",
      "Shape of y_train: (640, 1)\n",
      "Shape of y_test: (128, 1)\n"
     ]
    }
   ],
   "source": [
    "# partition the data to training and test sets\n",
    "n = x.shape[0]\n",
    "n_train = 640\n",
    "n_test = n - n_train\n",
    "\n",
    "rand_indices = numpy.random.permutation(n)\n",
    "train_indices = rand_indices[0:n_train]\n",
    "test_indices = rand_indices[n_train:n]\n",
    "\n",
    "x_train = x[train_indices, :]\n",
    "x_test = x[test_indices, :]\n",
    "y_train = y[train_indices].reshape(n_train, 1)\n",
    "y_test = y[test_indices].reshape(n_test, 1)\n",
    "\n",
    "print('Shape of x_train: ' + str(x_train.shape))\n",
    "print('Shape of x_test: ' + str(x_test.shape))\n",
    "print('Shape of y_train: ' + str(y_train.shape))\n",
    "print('Shape of y_test: ' + str(y_test.shape))"
   ]
  },
  {
   "cell_type": "markdown",
   "metadata": {},
   "source": [
    "## 1.3. Feature scaling"
   ]
  },
  {
   "cell_type": "markdown",
   "metadata": {},
   "source": [
    "Use the standardization to trainsform both training and test features"
   ]
  },
  {
   "cell_type": "code",
   "execution_count": 120,
   "metadata": {},
   "outputs": [
    {
     "name": "stdout",
     "output_type": "stream",
     "text": [
      "test mean = \n",
      "[[-0.00616917  0.09001558  0.07128022  0.05166182  0.15713509  0.17577619\n",
      "   0.02937235  0.05300778]]\n",
      "test std = \n",
      "[[1.12946259 1.07918954 1.02107922 0.96548112 1.1727157  0.94448239\n",
      "  0.9679227  1.0243685 ]]\n"
     ]
    }
   ],
   "source": [
    "# Standardization\n",
    "import numpy\n",
    "\n",
    "# calculate mu and sig using the training set\n",
    "d = x_train.shape[1]\n",
    "mu = numpy.mean(x_train, axis=0).reshape(1, d)\n",
    "sig = numpy.std(x_train, axis=0).reshape(1, d)\n",
    "\n",
    "# transform the training features\n",
    "x_train = (x_train - mu) / (sig + 1E-6)\n",
    "\n",
    "# transform the test features\n",
    "x_test = (x_test - mu) / (sig + 1E-6)\n",
    "\n",
    "print('test mean = ')\n",
    "print(numpy.mean(x_test, axis=0))\n",
    "\n",
    "print('test std = ')\n",
    "print(numpy.std(x_test, axis=0))"
   ]
  },
  {
   "cell_type": "markdown",
   "metadata": {},
   "source": [
    "## 1.4. Add a dimension of all ones"
   ]
  },
  {
   "cell_type": "code",
   "execution_count": 121,
   "metadata": {},
   "outputs": [
    {
     "name": "stdout",
     "output_type": "stream",
     "text": [
      "Shape of x_train: (640, 9)\n",
      "Shape of x_test: (128, 9)\n"
     ]
    }
   ],
   "source": [
    "n_train, d = x_train.shape\n",
    "x_train = numpy.concatenate((x_train, numpy.ones((n_train, 1))), axis=1)\n",
    "\n",
    "n_test, d = x_test.shape\n",
    "x_test = numpy.concatenate((x_test, numpy.ones((n_test, 1))), axis=1)\n",
    "\n",
    "print('Shape of x_train: ' + str(x_train.shape))\n",
    "print('Shape of x_test: ' + str(x_test.shape))"
   ]
  },
  {
   "cell_type": "markdown",
   "metadata": {},
   "source": [
    "# 2. Implement Federated Averaging Learning"
   ]
  },
  {
   "cell_type": "markdown",
   "metadata": {},
   "source": [
    "* Use 4 worker nodes\n",
    "* Use GD and SGD (with batch size b=1)\n",
    "* Set the number of local iterations to q=1 and 8\n",
    "* Plot (training) objective function against epochs or number of communications. Note the difference between #epochs and #communications\n",
    "* Note also that there are 4 lines in your plot (GD with q=1, GD with q=8, SGD with q=1, and SGD with q=8)"
   ]
  },
  {
   "cell_type": "markdown",
   "metadata": {},
   "source": [
    "## 2.1 Define Worker and Server classes"
   ]
  },
  {
   "cell_type": "code",
   "execution_count": 122,
   "metadata": {},
   "outputs": [],
   "source": [
    "import random"
   ]
  },
  {
   "cell_type": "code",
   "execution_count": 123,
   "metadata": {},
   "outputs": [],
   "source": [
    "# Define worker class (using lecture notes)\n",
    "# The i-th worker:\n",
    "#    1. Receives model parameters w from the server\n",
    "#    2. Repeats: a) Using w and its local data to compute g; b) Local w update\n",
    "#    3. Sends w_i (local weight) to the server\n",
    "class Worker:\n",
    "    # Define/assign arguments\n",
    "    def __init__(self, x, y, q):\n",
    "        self.x = x   # Local feature matrix (s-by-d)\n",
    "        self.y = y   # Local label matrix (s-by-1)\n",
    "        self.s, self.d = x.shape   # Get samples and number of features\n",
    "        self.w = np.zeros((d, 1))  # Model parameter vector (d-by-1)\n",
    "        self.q = q # Number of repeats for local gradient updates\n",
    "     \n",
    "    # Set model parameters to the latest\n",
    "    def set_param(self, w):\n",
    "        self.w = w\n",
    "        \n",
    "    # Compute local loss\n",
    "    def loss(self):\n",
    "        yx = np.multiply(self.y, self.x) # (s-by-d)\n",
    "        yxw = np.dot(yx, self.w) # (s-by-1)\n",
    "        vec1 = np.exp(-yxw) # (s-by-1)\n",
    "        vec2 = np.log(1 + vec1) # (s-by-1)\n",
    "        return np.sum(vec2) # Loss function\n",
    "    \n",
    "    # **** Federal Averaging Repeat Step! ****\n",
    "    # Compute local gradient and update w\n",
    "    def local_gradient_and_update(self, alpha, alg='gd'):\n",
    "        # Repeat computing local gradient and updating local w\n",
    "        \n",
    "        # Stochastic Gradient Descent\n",
    "        if alg == 'sgd': \n",
    "            for r in range(q):\n",
    "                for b in range(self.s):\n",
    "                    # Sample one sample for update\n",
    "                    ind = random.randrange(0, self.s)\n",
    "                    sample_x = self.x[ind]\n",
    "                    sample_y = self.y[ind]\n",
    "                    \n",
    "                    # Calculate gradient\n",
    "                    yx = np.multiply(sample_y, sample_x) # (s-by-d)\n",
    "                    yxw = np.dot(yx, self.w) # (s-by-1)\n",
    "                    vec1 = np.exp(yxw) # (s-by-1)\n",
    "                    vec2 = np.divide(yx, 1+vec1)\n",
    "                    g = -np.sum(vec2, axis=0).reshape(self.d, 1) # (d-by-1)\n",
    "            \n",
    "                    # Update local w\n",
    "                    self.w -= alpha * g\n",
    "        \n",
    "        # Gradient Descent\n",
    "        else:\n",
    "            for r in range(q):\n",
    "                yx = np.multiply(self.y, self.x) # (s-by-d)\n",
    "                yxw = np.dot(yx, self.w) # (s-by-1)\n",
    "                vec1 = np.exp(yxw) # (s-by-1)\n",
    "                vec2 = np.divide(yx, 1+vec1)\n",
    "                g = -np.sum(vec2, axis=0).reshape(self.d, 1) # (d-by-1)\n",
    "\n",
    "                # Update local w\n",
    "                self.w -= alpha * g\n",
    "                \n",
    "        # Send w_i to server\n",
    "        return self.w  "
   ]
  },
  {
   "cell_type": "code",
   "execution_count": 124,
   "metadata": {},
   "outputs": [],
   "source": [
    "# Define server class (using lecture notes)\n",
    "#    1. Receives all w_i from the m workers\n",
    "#    2. Updates model parameters with an average\n",
    "class Server:\n",
    "    # Define/assign arguments\n",
    "    def __init__(self, m, n, d):\n",
    "        self.m = m  # Number of worker nodes\n",
    "        self.n = n  # Number of training samples\n",
    "        self.d = d  # Number of features\n",
    "        self.w = np.zeros((d, 1)) # Model parameter vector (d-by-1)\n",
    "        self.avg = np.zeros((d, 1)) # w_i average (d-by-1)\n",
    "        self.loss = 0 # Loss function value\n",
    "        self.obj = 0 # Objective function value\n",
    "        \n",
    "    # Broadcast w to the workers\n",
    "    def broadcast(self):\n",
    "        return self.w\n",
    "    \n",
    "    # **** Federal Averaging Step! ****\n",
    "    # Average the weights and losses evaluated by the workers\n",
    "    # Args:\n",
    "    #    weights: a list of d-by-1 vectors\n",
    "    #    losses: a list of scalars\n",
    "    def average_workers(self, weights, losses):\n",
    "        self.avg = np.zeros((self.d, 1)) # w_i avg (d-by-1)\n",
    "        self.loss = 0  # Loss value\n",
    "        \n",
    "        # Sum weight values and losses of worker nodes\n",
    "        for k in range(self.m):\n",
    "            self.avg += weights[k]\n",
    "            self.loss += losses[k]\n",
    "    \n",
    "        # Take average\n",
    "        self.avg /= self.m\n",
    "        self.loss /= self.m\n",
    "        \n",
    "    # Compute objective function (sum of loss) and regularization)\n",
    "    def objective(self, lam):\n",
    "        # Compute regularization term\n",
    "        reg = lam / 2 * np.sum(self.w * self.w)\n",
    "        self.obj = self.loss / self.n + reg\n",
    "        return self.obj\n",
    "    \n",
    "    # Update the model parameters using averaged gradient\n",
    "    def update(self):\n",
    "        self.w = self.avg / self.m"
   ]
  },
  {
   "cell_type": "markdown",
   "metadata": {},
   "source": [
    "## 2.2 Initialization"
   ]
  },
  {
   "cell_type": "code",
   "execution_count": 125,
   "metadata": {},
   "outputs": [],
   "source": [
    "import math\n",
    "\n",
    "# Create a server and 4 worker nodes (using lecture notes)\n",
    "def create_server_workers(m, x, y, q):\n",
    "    n, d = x.shape\n",
    "    s = math.floor(n / m) # Calculate how many samples per worker node\n",
    "    server = Server(m, n, d) # Define server\n",
    "    \n",
    "    # Define workers\n",
    "    workers = []\n",
    "    \n",
    "    for i in range(m):\n",
    "        indices = list(range(i*s, (i+1)*s)) # Get indices for this worker's samples\n",
    "        worker = Worker(x[indices, :], y[indices, :], q) # Assign local data to worker\n",
    "        workers.append(worker)\n",
    "        \n",
    "    return server, workers"
   ]
  },
  {
   "cell_type": "code",
   "execution_count": 126,
   "metadata": {},
   "outputs": [],
   "source": [
    "# Create instance for q=1\n",
    "\n",
    "m = 4 # Number of worker nodes\n",
    "q = 1 # Number of local iterations\n",
    "server_q1, workers_q1 = create_server_workers(m, x_train, y_train, q)"
   ]
  },
  {
   "cell_type": "code",
   "execution_count": 127,
   "metadata": {},
   "outputs": [],
   "source": [
    "# Create instance for q=8\n",
    "\n",
    "q = 8\n",
    "server_q8, workers_q8 = create_server_workers(m, x_train, y_train, q)"
   ]
  },
  {
   "cell_type": "code",
   "execution_count": 128,
   "metadata": {},
   "outputs": [],
   "source": [
    "max_epoch = 50 # Number of epochs\n",
    "alpha = 1E-1 # Learning rate"
   ]
  },
  {
   "cell_type": "markdown",
   "metadata": {},
   "source": [
    "## 2.3 Perform SGD"
   ]
  },
  {
   "cell_type": "markdown",
   "metadata": {},
   "source": [
    "### 2.3.1: q = 1"
   ]
  },
  {
   "cell_type": "code",
   "execution_count": 129,
   "metadata": {
    "scrolled": true
   },
   "outputs": [],
   "source": [
    "obj_gd_q1 = [] # Save objective values for plotting\n",
    "\n",
    "for t in range(max_epoch):\n",
    "    # 1. Broadcast\n",
    "    w = server_q1.broadcast()\n",
    "    \n",
    "    for i in range(m):\n",
    "        workers_q1[i].set_param(w)\n",
    "        \n",
    "    # 2. Worker's local computations\n",
    "    weights_gd_q1 = []\n",
    "    losses_gd_q1 = []\n",
    "    \n",
    "    for i in range(m):\n",
    "        weight = workers_q1[i].local_gradient_and_update(alpha=alpha, alg='gd')\n",
    "        weights_gd_q1.append(weight)\n",
    "        l = workers_q1[i].loss()\n",
    "        losses_gd_q1.append(l)\n",
    "        \n",
    "    # 3. Aggregrate workers' outputs\n",
    "    server_q1.average_workers(weights_gd_q1, losses_gd_q1)\n",
    "\n",
    "    # 4. Update server model parameters\n",
    "    obj_gd_q1.append(server_q1.objective(1E-6))\n",
    "    server_q1.update()"
   ]
  },
  {
   "cell_type": "markdown",
   "metadata": {},
   "source": [
    "### 2.3.1: q = 8"
   ]
  },
  {
   "cell_type": "code",
   "execution_count": 130,
   "metadata": {},
   "outputs": [],
   "source": [
    "obj_gd_q8 = [] # Save objective values for plotting\n",
    "\n",
    "for t in range(max_epoch):\n",
    "    # 1. Broadcast\n",
    "    w = server_q8.broadcast()\n",
    "    \n",
    "    for i in range(m):\n",
    "        workers_q8[i].set_param(w)\n",
    "        \n",
    "    # 2. Worker's local computations\n",
    "    weights_gd_q8 = []\n",
    "    losses_gd_q8 = []\n",
    "    \n",
    "    for i in range(m):\n",
    "        weight = workers_q8[i].local_gradient_and_update(alpha=alpha, alg='gd')\n",
    "        weights_gd_q8.append(weight)\n",
    "        l = workers_q8[i].loss()\n",
    "        losses_gd_q8.append(l)\n",
    "        \n",
    "    # 3. Aggregrate workers' outputs\n",
    "    server_q8.average_workers(weights_gd_q8, losses_gd_q8)\n",
    "    \n",
    "    # 4. Update server model parameters\n",
    "    obj_gd_q8.append(server_q8.objective(1E-6))\n",
    "    server_q8.update()"
   ]
  },
  {
   "cell_type": "markdown",
   "metadata": {},
   "source": [
    "## 2.4 Perform SGD"
   ]
  },
  {
   "cell_type": "markdown",
   "metadata": {},
   "source": [
    "### 2.4.1: q = 1"
   ]
  },
  {
   "cell_type": "code",
   "execution_count": 131,
   "metadata": {},
   "outputs": [],
   "source": [
    "obj_sgd_q1 = [] # Save objective values for plotting\n",
    "\n",
    "for t in range(max_epoch):\n",
    "    # 1. Broadcast\n",
    "    w = server_q1.broadcast()\n",
    "    \n",
    "    for i in range(m):\n",
    "        workers_q1[i].set_param(w)\n",
    "        \n",
    "    # 2. Worker's local computations\n",
    "    weights_sgd_q1 = []\n",
    "    losses_sgd_q1 = []\n",
    "    \n",
    "    for i in range(m):\n",
    "        weight = workers_q1[i].local_gradient_and_update(alpha=alpha, alg='sgd')\n",
    "        weights_sgd_q1.append(weight)\n",
    "        l = workers_q1[i].loss()\n",
    "        losses_sgd_q1.append(l)\n",
    "        \n",
    "    # 3. Aggregrate workers' outputs\n",
    "    server_q1.average_workers(weights_sgd_q1, losses_sgd_q1)\n",
    "\n",
    "    # 4. Update server model parameters\n",
    "    obj_sgd_q1.append(server_q1.objective(1E-6))\n",
    "    server_q1.update()"
   ]
  },
  {
   "cell_type": "markdown",
   "metadata": {},
   "source": [
    "### 2.4.2: q = 8"
   ]
  },
  {
   "cell_type": "code",
   "execution_count": 132,
   "metadata": {},
   "outputs": [],
   "source": [
    "obj_sgd_q8 = [] # Save objective values for plotting\n",
    "\n",
    "for t in range(max_epoch):\n",
    "    # 1. Broadcast\n",
    "    w = server_q8.broadcast()\n",
    "    \n",
    "    for i in range(m):\n",
    "        workers_q8[i].set_param(w)\n",
    "        \n",
    "    # 2. Worker's local computations\n",
    "    weights_sgd_q8 = []\n",
    "    losses_sgd_q8 = []\n",
    "    \n",
    "    for i in range(m):\n",
    "        weight = workers_q8[i].local_gradient_and_update(alpha=alpha, alg='sgd')\n",
    "        weights_sgd_q8.append(weight)\n",
    "        l = workers_q8[i].loss()\n",
    "        losses_sgd_q8.append(l)\n",
    "        \n",
    "    # 3. Aggregrate workers' outputs\n",
    "    server_q8.average_workers(weights_sgd_q8, losses_sgd_q8)\n",
    "    \n",
    "    # 4. Update server model parameters\n",
    "    obj_sgd_q8.append(server_q8.objective(1E-6))\n",
    "    server_q8.update()"
   ]
  },
  {
   "cell_type": "markdown",
   "metadata": {},
   "source": [
    "# 3. Plots"
   ]
  },
  {
   "cell_type": "markdown",
   "metadata": {},
   "source": [
    "**Note:** I think my objective function calculations are incorrect - I could not figure out what I was doing wrong. My apologies!"
   ]
  },
  {
   "cell_type": "code",
   "execution_count": 133,
   "metadata": {},
   "outputs": [],
   "source": [
    "import matplotlib.pyplot as plt\n",
    "%matplotlib inline"
   ]
  },
  {
   "cell_type": "markdown",
   "metadata": {},
   "source": [
    "## 3.1 Loss vs. Epochs"
   ]
  },
  {
   "cell_type": "code",
   "execution_count": 134,
   "metadata": {},
   "outputs": [
    {
     "data": {
      "image/png": "[encoded data removed]",
      "text/plain": [
       "<Figure size 432x288 with 1 Axes>"
      ]
     },
     "metadata": {
      "needs_background": "light"
     },
     "output_type": "display_data"
    }
   ],
   "source": [
    "epochs = list(range(1, 51)) # 50 epochs\n",
    "\n",
    "fig = plt.figure(figsize=(6,4))\n",
    "\n",
    "line0 = plt.plot(epochs, obj_gd_q1, 'b', label='GD/q=1')\n",
    "line1 = plt.plot(epochs, obj_gd_q8, 'r', label='GD/q=8')\n",
    "line2 = plt.plot(epochs, obj_sgd_q1, 'g', label='SGD/q=1')\n",
    "line3 = plt.plot(epochs, obj_sgd_q8, 'orange', label='SGD/q=8')\n",
    "\n",
    "plt.title('Loss vs. Epochs')\n",
    "plt.xlabel('Epochs')\n",
    "plt.ylabel('Loss')\n",
    "plt.xticks()\n",
    "plt.yticks()\n",
    "plt.legend()\n",
    "plt.show()"
   ]
  },
  {
   "cell_type": "markdown",
   "metadata": {},
   "source": [
    "## 3.2 Loss vs. Communications"
   ]
  },
  {
   "cell_type": "markdown",
   "metadata": {},
   "source": [
    "(Calculated based on the Server performing **two** communications per epoch) "
   ]
  },
  {
   "cell_type": "code",
   "execution_count": 135,
   "metadata": {},
   "outputs": [
    {
     "data": {
      "image/png": "[encoded data removed]",
      "text/plain": [
       "<Figure size 432x288 with 1 Axes>"
      ]
     },
     "metadata": {
      "needs_background": "light"
     },
     "output_type": "display_data"
    }
   ],
   "source": [
    "communications = [c*2 for c in list(range(1, 51))] # 50 epochs * 2 communications per epoch\n",
    "\n",
    "fig = plt.figure(figsize=(6,4))\n",
    "\n",
    "line0 = plt.plot(communications, obj_gd_q1, 'b', label='GD/q=1')\n",
    "line1 = plt.plot(communications, obj_gd_q8, 'r', label='GD/q=8')\n",
    "line2 = plt.plot(communications, obj_sgd_q1, 'g', label='SGD/q=1')\n",
    "line3 = plt.plot(communications, obj_sgd_q8, 'orange', label='SGD/q=8')\n",
    "\n",
    "plt.title('Loss vs. Communications')\n",
    "plt.xlabel('Communications')\n",
    "plt.ylabel('Loss')\n",
    "plt.xticks()\n",
    "plt.yticks()\n",
    "plt.legend()\n",
    "plt.show()"
   ]
  }
 ],
 "metadata": {
  "kernelspec": {
   "display_name": "Python 3",
   "language": "python",
   "name": "python3"
  },
  "language_info": {
   "codemirror_mode": {
    "name": "ipython",
    "version": 3
   },
   "file_extension": ".py",
   "mimetype": "text/x-python",
   "name": "python",
   "nbconvert_exporter": "python",
   "pygments_lexer": "ipython3",
   "version": "3.8.5"
  }
 },
 "nbformat": 4,
 "nbformat_minor": 2
}
