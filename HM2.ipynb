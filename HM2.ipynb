{
 "cells": [
  {
   "cell_type": "markdown",
   "metadata": {},
   "source": [
    "# HM2: Numerical Optimization for Logistic Regression.\n",
    "\n",
    "### Name: Allison Aprile\n"
   ]
  },
  {
   "cell_type": "markdown",
   "metadata": {},
   "source": [
    "## 0. You will do the following:\n",
    "\n",
    "1. Read the lecture note: [click here](https://github.com/wangshusen/DeepLearning/blob/master/LectureNotes/Logistic/paper/logistic.pdf)\n",
    "\n",
    "2. Read, complete, and run my code.\n",
    "\n",
    "3. **Implement mini-batch SGD** and evaluate the performance.\n",
    "\n",
    "4. Convert the .IPYNB file to .HTML file.\n",
    "\n",
    "    * The HTML file must contain **the code** and **the output after execution**.\n",
    "    \n",
    "    * Missing **the output after execution** will not be graded.\n",
    "    \n",
    "5. Upload this .HTML file to your Google Drive, Dropbox, or your Github repo.  (If you submit the file to Google Drive or Dropbox, you must make the file \"open-access\". The delay caused by \"deny of access\" may result in late penalty.)\n",
    "\n",
    "6. Submit the link to this .HTML file to Canvas.\n",
    "\n",
    "    * Example: https://github.com/wangshusen/CS583-2020S/blob/master/homework/HM2/HM2.html\n",
    "\n",
    "\n",
    "## Grading criteria:\n",
    "\n",
    "1. When computing the ```gradient``` and ```objective function value``` using a batch of samples, use **matrix-vector multiplication** rather than a FOR LOOP of **vector-vector multiplications**.\n",
    "\n",
    "2. Plot ```objective function value``` against ```epochs```. In the plot, compare GD, SGD, and MB-SGD (with $b=8$ and $b=64$). The plot must look reasonable."
   ]
  },
  {
   "cell_type": "code",
   "execution_count": null,
   "metadata": {},
   "outputs": [],
   "source": []
  },
  {
   "cell_type": "markdown",
   "metadata": {},
   "source": [
    "# 1. Data processing\n",
    "\n",
    "- Download the Diabete dataset from https://www.csie.ntu.edu.tw/~cjlin/libsvmtools/datasets/binary/diabetes\n",
    "- Load the data using sklearn.\n",
    "- Preprocess the data."
   ]
  },
  {
   "cell_type": "markdown",
   "metadata": {},
   "source": [
    "## 1.1. Load the data"
   ]
  },
  {
   "cell_type": "code",
   "execution_count": 1,
   "metadata": {},
   "outputs": [
    {
     "name": "stdout",
     "output_type": "stream",
     "text": [
      "Shape of x: (768, 8)\n",
      "Shape of y: (768,)\n"
     ]
    }
   ],
   "source": [
    "from sklearn import datasets\n",
    "import numpy\n",
    "\n",
    "x_sparse, y = datasets.load_svmlight_file('diabetes')\n",
    "x = x_sparse.todense()\n",
    "\n",
    "print('Shape of x: ' + str(x.shape))\n",
    "print('Shape of y: ' + str(y.shape))"
   ]
  },
  {
   "cell_type": "markdown",
   "metadata": {},
   "source": [
    "## 1.2. Partition to training and test sets"
   ]
  },
  {
   "cell_type": "code",
   "execution_count": 2,
   "metadata": {},
   "outputs": [
    {
     "name": "stdout",
     "output_type": "stream",
     "text": [
      "Shape of x_train: (640, 8)\n",
      "Shape of x_test: (128, 8)\n",
      "Shape of y_train: (640, 1)\n",
      "Shape of y_test: (128, 1)\n"
     ]
    }
   ],
   "source": [
    "# partition the data to training and test sets\n",
    "n = x.shape[0]\n",
    "n_train = 640\n",
    "n_test = n - n_train\n",
    "\n",
    "rand_indices = numpy.random.permutation(n)\n",
    "train_indices = rand_indices[0:n_train]\n",
    "test_indices = rand_indices[n_train:n]\n",
    "\n",
    "x_train = x[train_indices, :]\n",
    "x_test = x[test_indices, :]\n",
    "y_train = y[train_indices].reshape(n_train, 1)\n",
    "y_test = y[test_indices].reshape(n_test, 1)\n",
    "\n",
    "print('Shape of x_train: ' + str(x_train.shape))\n",
    "print('Shape of x_test: ' + str(x_test.shape))\n",
    "print('Shape of y_train: ' + str(y_train.shape))\n",
    "print('Shape of y_test: ' + str(y_test.shape))"
   ]
  },
  {
   "cell_type": "markdown",
   "metadata": {},
   "source": [
    "## 1.3. Feature scaling"
   ]
  },
  {
   "cell_type": "markdown",
   "metadata": {},
   "source": [
    "Use the standardization to trainsform both training and test features"
   ]
  },
  {
   "cell_type": "code",
   "execution_count": 3,
   "metadata": {},
   "outputs": [
    {
     "name": "stdout",
     "output_type": "stream",
     "text": [
      "test mean = \n",
      "[[-0.07524701  0.12117702  0.1033433   0.1165221   0.11126737  0.02032957\n",
      "  -0.1132207   0.17312147]]\n",
      "test std = \n",
      "[[0.96648701 0.94190769 0.98776968 0.95767629 1.08645722 1.04690957\n",
      "  0.82107292 1.0659878 ]]\n"
     ]
    }
   ],
   "source": [
    "# Standardization\n",
    "import numpy\n",
    "\n",
    "# calculate mu and sig using the training set\n",
    "d = x_train.shape[1]\n",
    "mu = numpy.mean(x_train, axis=0).reshape(1, d)\n",
    "sig = numpy.std(x_train, axis=0).reshape(1, d)\n",
    "\n",
    "# transform the training features\n",
    "x_train = (x_train - mu) / (sig + 1E-6)\n",
    "\n",
    "# transform the test features\n",
    "x_test = (x_test - mu) / (sig + 1E-6)\n",
    "\n",
    "print('test mean = ')\n",
    "print(numpy.mean(x_test, axis=0))\n",
    "\n",
    "print('test std = ')\n",
    "print(numpy.std(x_test, axis=0))"
   ]
  },
  {
   "cell_type": "markdown",
   "metadata": {},
   "source": [
    "## 1.4. Add a dimension of all ones"
   ]
  },
  {
   "cell_type": "code",
   "execution_count": 4,
   "metadata": {},
   "outputs": [
    {
     "name": "stdout",
     "output_type": "stream",
     "text": [
      "Shape of x_train: (640, 9)\n",
      "Shape of x_test: (128, 9)\n"
     ]
    }
   ],
   "source": [
    "n_train, d = x_train.shape\n",
    "x_train = numpy.concatenate((x_train, numpy.ones((n_train, 1))), axis=1)\n",
    "\n",
    "n_test, d = x_test.shape\n",
    "x_test = numpy.concatenate((x_test, numpy.ones((n_test, 1))), axis=1)\n",
    "\n",
    "print('Shape of x_train: ' + str(x_train.shape))\n",
    "print('Shape of x_test: ' + str(x_test.shape))"
   ]
  },
  {
   "cell_type": "markdown",
   "metadata": {},
   "source": [
    "# 2. Logistic regression model\n",
    "\n",
    "The objective function is $Q (w; X, y) = \\frac{1}{n} \\sum_{i=1}^n \\log \\Big( 1 + \\exp \\big( - y_i x_i^T w \\big) \\Big) + \\frac{\\lambda}{2} \\| w \\|_2^2 $."
   ]
  },
  {
   "cell_type": "code",
   "execution_count": 5,
   "metadata": {},
   "outputs": [],
   "source": [
    "# Calculate the objective function value\n",
    "# Inputs:\n",
    "#     w: d-by-1 matrix\n",
    "#     x: n-by-d matrix\n",
    "#     y: n-by-1 matrix\n",
    "#     lam: scalar, the regularization parameter\n",
    "# Return:\n",
    "#     objective function value (scalar)\n",
    "def objective(w, x, y, lam):\n",
    "    n, d = x.shape\n",
    "    yx = numpy.multiply(y, x) # n-by-d matrix\n",
    "    yxw = numpy.dot(yx, w) # n-by-1 matrix\n",
    "    vec1 = numpy.exp(-yxw) # n-by-1 matrix\n",
    "    vec2 = numpy.log(1 + vec1) # n-by-1 matrix\n",
    "    loss = numpy.mean(vec2) # scalar\n",
    "    reg = lam / 2 * numpy.sum(w * w) # scalar\n",
    "    return loss + reg\n",
    "    "
   ]
  },
  {
   "cell_type": "code",
   "execution_count": 6,
   "metadata": {},
   "outputs": [
    {
     "name": "stdout",
     "output_type": "stream",
     "text": [
      "Initial objective function value = 0.6931471805599453\n"
     ]
    }
   ],
   "source": [
    "# initialize w\n",
    "d = x_train.shape[1]\n",
    "w = numpy.zeros((d, 1))\n",
    "\n",
    "# evaluate the objective function value at w\n",
    "lam = 1E-6\n",
    "objval0 = objective(w, x_train, y_train, lam)\n",
    "print('Initial objective function value = ' + str(objval0))"
   ]
  },
  {
   "cell_type": "markdown",
   "metadata": {},
   "source": [
    "# 3. Numerical optimization"
   ]
  },
  {
   "cell_type": "markdown",
   "metadata": {},
   "source": [
    "## 3.1. Gradient descent\n"
   ]
  },
  {
   "cell_type": "markdown",
   "metadata": {},
   "source": [
    "The gradient at $w$ is $g = - \\frac{1}{n} \\sum_{i=1}^n \\frac{y_i x_i }{1 + \\exp ( y_i x_i^T w)} + \\lambda w$"
   ]
  },
  {
   "cell_type": "code",
   "execution_count": 7,
   "metadata": {},
   "outputs": [],
   "source": [
    "# Calculate the gradient\n",
    "# Inputs:\n",
    "#     w: d-by-1 matrix\n",
    "#     x: n-by-d matrix\n",
    "#     y: n-by-1 matrix\n",
    "#     lam: scalar, the regularization parameter\n",
    "# Return:\n",
    "#     g: g: d-by-1 matrix, full gradient\n",
    "def gradient(w, x, y, lam):\n",
    "    n, d = x.shape\n",
    "    yx = numpy.multiply(y, x) # n-by-d matrix\n",
    "    yxw = numpy.dot(yx, w) # n-by-1 matrix\n",
    "    vec1 = numpy.exp(yxw) # n-by-1 matrix\n",
    "    vec2 = numpy.divide(yx, 1+vec1) # n-by-d matrix\n",
    "    vec3 = -numpy.mean(vec2, axis=0).reshape(d, 1) # d-by-1 matrix\n",
    "    g = vec3 + lam * w\n",
    "    return g"
   ]
  },
  {
   "cell_type": "code",
   "execution_count": 8,
   "metadata": {},
   "outputs": [],
   "source": [
    "# Gradient descent for solving logistic regression\n",
    "# Inputs:\n",
    "#     x: n-by-d matrix\n",
    "#     y: n-by-1 matrix\n",
    "#     lam: scalar, the regularization parameter\n",
    "#     stepsize: scalar\n",
    "#     max_iter: integer, the maximal iterations\n",
    "#     w: d-by-1 matrix, initialization of w\n",
    "# Return:\n",
    "#     w: d-by-1 matrix, the solution\n",
    "#     objvals: a record of each iteration's objective value\n",
    "def grad_descent(x, y, lam, stepsize, max_iter=100, w=None):\n",
    "    n, d = x.shape\n",
    "    objvals = numpy.zeros(max_iter) # store the objective values\n",
    "    if w is None:\n",
    "        w = numpy.zeros((d, 1)) # zero initialization\n",
    "    \n",
    "    for t in range(max_iter):\n",
    "        objval = objective(w, x, y, lam)\n",
    "        objvals[t] = objval\n",
    "        print('Objective value at t=' + str(t) + ' is ' + str(objval))\n",
    "        g = gradient(w, x, y, lam)\n",
    "        w -= stepsize * g\n",
    "    \n",
    "    return w, objvals"
   ]
  },
  {
   "cell_type": "markdown",
   "metadata": {},
   "source": [
    "Run gradient descent."
   ]
  },
  {
   "cell_type": "code",
   "execution_count": 9,
   "metadata": {},
   "outputs": [
    {
     "name": "stdout",
     "output_type": "stream",
     "text": [
      "Objective value at t=0 is 0.6931471805599453\n",
      "Objective value at t=1 is 0.5931661469600934\n",
      "Objective value at t=2 is 0.5523481906790821\n",
      "Objective value at t=3 is 0.5303731422398088\n",
      "Objective value at t=4 is 0.5166895075069576\n",
      "Objective value at t=5 is 0.5074681188964553\n",
      "Objective value at t=6 is 0.5009463245301066\n",
      "Objective value at t=7 is 0.4961803532866959\n",
      "Objective value at t=8 is 0.49261267436715084\n",
      "Objective value at t=9 is 0.4898913794009005\n",
      "Objective value at t=10 is 0.48778373243134693\n",
      "Objective value at t=11 is 0.4861303819664063\n",
      "Objective value at t=12 is 0.4848192252640517\n",
      "Objective value at t=13 is 0.4837696365668964\n",
      "Objective value at t=14 is 0.48292253900026816\n",
      "Objective value at t=15 is 0.4822339447690847\n",
      "Objective value at t=16 is 0.48167063761421003\n",
      "Objective value at t=17 is 0.4812072212748539\n",
      "Objective value at t=18 is 0.4808240621004005\n",
      "Objective value at t=19 is 0.4805058300975095\n",
      "Objective value at t=20 is 0.4802404483195742\n",
      "Objective value at t=21 is 0.48001832571811465\n",
      "Objective value at t=22 is 0.47983178984012514\n",
      "Objective value at t=23 is 0.4796746624244495\n",
      "Objective value at t=24 is 0.4795419385105546\n",
      "Objective value at t=25 is 0.47942954143069283\n",
      "Objective value at t=26 is 0.479334134049653\n",
      "Objective value at t=27 is 0.47925297212703544\n",
      "Objective value at t=28 is 0.47918378952594515\n",
      "Objective value at t=29 is 0.4791247077130646\n",
      "Objective value at t=30 is 0.47907416394068586\n",
      "Objective value at t=31 is 0.47903085390732075\n",
      "Objective value at t=32 is 0.4789936857198088\n",
      "Objective value at t=33 is 0.4789617427360528\n",
      "Objective value at t=34 is 0.4789342534296619\n",
      "Objective value at t=35 is 0.4789105668391825\n",
      "Objective value at t=36 is 0.47889013248299234\n",
      "Objective value at t=37 is 0.47887248386329917\n",
      "Objective value at t=38 is 0.4788572248684661\n",
      "Objective value at t=39 is 0.47884401852626896\n",
      "Objective value at t=40 is 0.47883257767202203\n",
      "Objective value at t=41 is 0.47882265718248945\n",
      "Objective value at t=42 is 0.4788140474948244\n",
      "Objective value at t=43 is 0.4788065691837503\n",
      "Objective value at t=44 is 0.47880006841302836\n",
      "Objective value at t=45 is 0.4787944131114323\n",
      "Objective value at t=46 is 0.478789489750816\n",
      "Objective value at t=47 is 0.47878520062589425\n",
      "Objective value at t=48 is 0.47878146155314555\n",
      "Objective value at t=49 is 0.4787781999206848\n",
      "Objective value at t=50 is 0.4787753530326907\n",
      "Objective value at t=51 is 0.47877286670158015\n",
      "Objective value at t=52 is 0.4787706940489684\n",
      "Objective value at t=53 is 0.47876879448293197\n",
      "Objective value at t=54 is 0.47876713282440286\n",
      "Objective value at t=55 is 0.4787656785599394\n",
      "Objective value at t=56 is 0.47876440520175995\n",
      "Objective value at t=57 is 0.47876328973896276\n",
      "Objective value at t=58 is 0.4787623121663805\n",
      "Objective value at t=59 is 0.4787614550796259\n",
      "Objective value at t=60 is 0.4787607033266487\n",
      "Objective value at t=61 is 0.47876004370760433\n",
      "Objective value at t=62 is 0.47875946471607395\n",
      "Objective value at t=63 is 0.4787589563157241\n",
      "Objective value at t=64 is 0.4787585097473707\n",
      "Objective value at t=65 is 0.4787581173621604\n",
      "Objective value at t=66 is 0.4787577724772068\n",
      "Objective value at t=67 is 0.47875746925055823\n",
      "Objective value at t=68 is 0.4787572025728164\n",
      "Objective value at t=69 is 0.4787569679731202\n",
      "Objective value at t=70 is 0.47875676153752666\n",
      "Objective value at t=71 is 0.4787565798381039\n",
      "Objective value at t=72 is 0.47875641987128703\n",
      "Objective value at t=73 is 0.47875627900425155\n",
      "Objective value at t=74 is 0.47875615492822954\n",
      "Objective value at t=75 is 0.4787560456178459\n",
      "Objective value at t=76 is 0.4787559492956755\n",
      "Objective value at t=77 is 0.47875586440133355\n",
      "Objective value at t=78 is 0.4787557895645032\n",
      "Objective value at t=79 is 0.4787557235813876\n",
      "Objective value at t=80 is 0.478755665394139\n",
      "Objective value at t=81 is 0.47875561407287975\n",
      "Objective value at t=82 is 0.4787555687999824\n",
      "Objective value at t=83 is 0.4787555288563161\n",
      "Objective value at t=84 is 0.4787554936092095\n",
      "Objective value at t=85 is 0.47875546250191037\n",
      "Objective value at t=86 is 0.478755435044353\n",
      "Objective value at t=87 is 0.4787554108050667\n",
      "Objective value at t=88 is 0.4787553894040811\n",
      "Objective value at t=89 is 0.47875537050670464\n",
      "Objective value at t=90 is 0.47875535381806644\n",
      "Objective value at t=91 is 0.4787553390783246\n",
      "Objective value at t=92 is 0.47875532605845933\n",
      "Objective value at t=93 is 0.47875531455657894\n",
      "Objective value at t=94 is 0.47875530439467373\n",
      "Objective value at t=95 is 0.4787552954157636\n",
      "Objective value at t=96 is 0.47875528748139\n",
      "Objective value at t=97 is 0.47875528046941096\n",
      "Objective value at t=98 is 0.47875527427206166\n",
      "Objective value at t=99 is 0.47875526879424746\n"
     ]
    }
   ],
   "source": [
    "lam = 1E-6\n",
    "stepsize = 1.0\n",
    "w, objvals_gd = grad_descent(x_train, y_train, lam, stepsize)"
   ]
  },
  {
   "cell_type": "markdown",
   "metadata": {},
   "source": [
    "## 3.2. Stochastic gradient descent (SGD)\n",
    "\n",
    "Define $Q_i (w) = \\log \\Big( 1 + \\exp \\big( - y_i x_i^T w \\big) \\Big) + \\frac{\\lambda}{2} \\| w \\|_2^2 $.\n",
    "\n",
    "The stochastic gradient at $w$ is $g_i = \\frac{\\partial Q_i }{ \\partial w} = -\\frac{y_i x_i }{1 + \\exp ( y_i x_i^T w)} + \\lambda w$."
   ]
  },
  {
   "cell_type": "code",
   "execution_count": 10,
   "metadata": {},
   "outputs": [],
   "source": [
    "# Calculate the objective Q_i and the gradient of Q_i\n",
    "# Inputs:\n",
    "#     w: d-by-1 matrix\n",
    "#     xi: 1-by-d matrix\n",
    "#     yi: scalar\n",
    "#     lam: scalar, the regularization parameter\n",
    "# Return:\n",
    "#     obj: scalar, the objective Q_i\n",
    "#     g: d-by-1 matrix, gradient of Q_i\n",
    "def stochastic_objective_gradient(w, xi, yi, lam):\n",
    "    d = xi.shape[0]\n",
    "    yx = yi * xi # 1-by-d matrix\n",
    "    yxw = float(numpy.dot(yx, w)) # scalar\n",
    "    \n",
    "    # calculate objective function Q_i\n",
    "    loss = numpy.log(1 + numpy.exp(-yxw)) # scalar\n",
    "    reg = lam / 2 * numpy.sum(w * w) # scalar\n",
    "    obj = loss + reg\n",
    "    \n",
    "    # calculate stochastic gradient\n",
    "    g_loss = -yx.T / (1 + numpy.exp(yxw)) # d-by-1 matrix\n",
    "    g = g_loss + lam * w # d-by-1 matrix\n",
    "    \n",
    "    return obj, g"
   ]
  },
  {
   "cell_type": "code",
   "execution_count": 11,
   "metadata": {},
   "outputs": [],
   "source": [
    "# SGD for solving logistic regression\n",
    "# Inputs:\n",
    "#     x: n-by-d matrix\n",
    "#     y: n-by-1 matrix\n",
    "#     lam: scalar, the regularization parameter\n",
    "#     stepsize: scalar\n",
    "#     max_epoch: integer, the maximal epochs\n",
    "#     w: d-by-1 matrix, initialization of w\n",
    "# Return:\n",
    "#     w: the solution\n",
    "#     objvals: record of each iteration's objective value\n",
    "def sgd(x, y, lam, stepsize, max_epoch=100, w=None):\n",
    "    n, d = x.shape\n",
    "    objvals = numpy.zeros(max_epoch) # store the objective values\n",
    "    if w is None:\n",
    "        w = numpy.zeros((d, 1)) # zero initialization\n",
    "    \n",
    "    for t in range(max_epoch):\n",
    "        # randomly shuffle the samples\n",
    "        rand_indices = numpy.random.permutation(n)\n",
    "        x_rand = x[rand_indices, :]\n",
    "        y_rand = y[rand_indices, :]\n",
    "        \n",
    "        objval = 0 # accumulate the objective values\n",
    "        for i in range(n):\n",
    "            xi = x_rand[i, :] # 1-by-d matrix\n",
    "            yi = float(y_rand[i, :]) # scalar\n",
    "            obj, g = stochastic_objective_gradient(w, xi, yi, lam)\n",
    "            objval += obj\n",
    "            w -= stepsize * g\n",
    "        \n",
    "        stepsize *= 0.9 # decrease step size\n",
    "        objval /= n\n",
    "        objvals[t] = objval\n",
    "        print('Objective value at epoch t=' + str(t) + ' is ' + str(objval))\n",
    "    \n",
    "    return w, objvals"
   ]
  },
  {
   "cell_type": "markdown",
   "metadata": {},
   "source": [
    "Run SGD."
   ]
  },
  {
   "cell_type": "code",
   "execution_count": 12,
   "metadata": {},
   "outputs": [
    {
     "name": "stdout",
     "output_type": "stream",
     "text": [
      "Objective value at epoch t=0 is 0.5354941841650883\n",
      "Objective value at epoch t=1 is 0.5205460820469522\n",
      "Objective value at epoch t=2 is 0.5226371568005485\n",
      "Objective value at epoch t=3 is 0.517877948294857\n",
      "Objective value at epoch t=4 is 0.5125576597022943\n",
      "Objective value at epoch t=5 is 0.5112734597223874\n",
      "Objective value at epoch t=6 is 0.5092141598876485\n",
      "Objective value at epoch t=7 is 0.5097237085584321\n",
      "Objective value at epoch t=8 is 0.5057728030092772\n",
      "Objective value at epoch t=9 is 0.4975795432554368\n",
      "Objective value at epoch t=10 is 0.5020807730010705\n",
      "Objective value at epoch t=11 is 0.49793908319266256\n",
      "Objective value at epoch t=12 is 0.4933463037090774\n",
      "Objective value at epoch t=13 is 0.495071271112585\n",
      "Objective value at epoch t=14 is 0.4921223740211489\n",
      "Objective value at epoch t=15 is 0.49081873826269995\n",
      "Objective value at epoch t=16 is 0.4914118363171064\n",
      "Objective value at epoch t=17 is 0.4874349853177562\n",
      "Objective value at epoch t=18 is 0.48895918713264386\n",
      "Objective value at epoch t=19 is 0.4875057062316325\n",
      "Objective value at epoch t=20 is 0.48713699796459\n",
      "Objective value at epoch t=21 is 0.4858367068209642\n",
      "Objective value at epoch t=22 is 0.4854432538332678\n",
      "Objective value at epoch t=23 is 0.48537054586998457\n",
      "Objective value at epoch t=24 is 0.48424529498268365\n",
      "Objective value at epoch t=25 is 0.4834037221206347\n",
      "Objective value at epoch t=26 is 0.4835091074970193\n",
      "Objective value at epoch t=27 is 0.483100223594587\n",
      "Objective value at epoch t=28 is 0.4824232373350002\n",
      "Objective value at epoch t=29 is 0.4820226664349615\n",
      "Objective value at epoch t=30 is 0.4818690554799202\n",
      "Objective value at epoch t=31 is 0.48160218427623114\n",
      "Objective value at epoch t=32 is 0.48131342459830034\n",
      "Objective value at epoch t=33 is 0.4810165297464316\n",
      "Objective value at epoch t=34 is 0.480772752256844\n",
      "Objective value at epoch t=35 is 0.480645031842826\n",
      "Objective value at epoch t=36 is 0.48042414621728985\n",
      "Objective value at epoch t=37 is 0.48028151393055574\n",
      "Objective value at epoch t=38 is 0.4801200690854925\n",
      "Objective value at epoch t=39 is 0.47999669732214834\n",
      "Objective value at epoch t=40 is 0.4798661452015409\n",
      "Objective value at epoch t=41 is 0.479755052104682\n",
      "Objective value at epoch t=42 is 0.4796690063974016\n",
      "Objective value at epoch t=43 is 0.47956884602023997\n",
      "Objective value at epoch t=44 is 0.47949845971815064\n",
      "Objective value at epoch t=45 is 0.4794116989442708\n",
      "Objective value at epoch t=46 is 0.4793558614317937\n",
      "Objective value at epoch t=47 is 0.4792943434810496\n",
      "Objective value at epoch t=48 is 0.47924425804400617\n",
      "Objective value at epoch t=49 is 0.47919495743245505\n",
      "Objective value at epoch t=50 is 0.47914870886127775\n",
      "Objective value at epoch t=51 is 0.479106928179732\n",
      "Objective value at epoch t=52 is 0.47907408762761794\n",
      "Objective value at epoch t=53 is 0.47904291887790507\n",
      "Objective value at epoch t=54 is 0.47901584598069763\n",
      "Objective value at epoch t=55 is 0.47898953008685385\n",
      "Objective value at epoch t=56 is 0.47896619956963404\n",
      "Objective value at epoch t=57 is 0.4789452530153608\n",
      "Objective value at epoch t=58 is 0.4789251046653719\n",
      "Objective value at epoch t=59 is 0.47890876565623774\n",
      "Objective value at epoch t=60 is 0.4788937558649489\n",
      "Objective value at epoch t=61 is 0.47888008668984244\n",
      "Objective value at epoch t=62 is 0.4788675239634606\n",
      "Objective value at epoch t=63 is 0.4788565493056939\n",
      "Objective value at epoch t=64 is 0.47884638685141034\n",
      "Objective value at epoch t=65 is 0.4788372744022843\n",
      "Objective value at epoch t=66 is 0.478829107709762\n",
      "Objective value at epoch t=67 is 0.4788217922645801\n",
      "Objective value at epoch t=68 is 0.47881519247638565\n",
      "Objective value at epoch t=69 is 0.47880924367265926\n",
      "Objective value at epoch t=70 is 0.4788038666754697\n",
      "Objective value at epoch t=71 is 0.47879902293973997\n",
      "Objective value at epoch t=72 is 0.47879468894802574\n",
      "Objective value at epoch t=73 is 0.47879078339168163\n",
      "Objective value at epoch t=74 is 0.4787872625354441\n",
      "Objective value at epoch t=75 is 0.4787840911702973\n",
      "Objective value at epoch t=76 is 0.47878122048131944\n",
      "Objective value at epoch t=77 is 0.4787786682919191\n",
      "Objective value at epoch t=78 is 0.478776349117836\n",
      "Objective value at epoch t=79 is 0.47877427445074244\n",
      "Objective value at epoch t=80 is 0.47877240638895574\n",
      "Objective value at epoch t=81 is 0.47877071602539323\n",
      "Objective value at epoch t=82 is 0.47876920020680985\n",
      "Objective value at epoch t=83 is 0.4787678398659356\n",
      "Objective value at epoch t=84 is 0.47876660700009654\n",
      "Objective value at epoch t=85 is 0.4787655036484966\n",
      "Objective value at epoch t=86 is 0.4787645095387306\n",
      "Objective value at epoch t=87 is 0.4787636136058717\n",
      "Objective value at epoch t=88 is 0.47876280760279144\n",
      "Objective value at epoch t=89 is 0.47876208134631704\n",
      "Objective value at epoch t=90 is 0.4787614282504782\n",
      "Objective value at epoch t=91 is 0.47876084115419937\n",
      "Objective value at epoch t=92 is 0.4787603122624553\n",
      "Objective value at epoch t=93 is 0.4787598359549884\n",
      "Objective value at epoch t=94 is 0.47875940746920626\n",
      "Objective value at epoch t=95 is 0.4787590216941762\n",
      "Objective value at epoch t=96 is 0.4787586749691837\n",
      "Objective value at epoch t=97 is 0.4787583624438577\n",
      "Objective value at epoch t=98 is 0.4787580812240956\n",
      "Objective value at epoch t=99 is 0.4787578283094702\n"
     ]
    }
   ],
   "source": [
    "lam = 1E-6\n",
    "stepsize = 0.1\n",
    "w, objvals_sgd = sgd(x_train, y_train, lam, stepsize)"
   ]
  },
  {
   "cell_type": "markdown",
   "metadata": {},
   "source": [
    "# 4. Compare GD with SGD\n",
    "\n",
    "Plot objective function values against epochs."
   ]
  },
  {
   "cell_type": "code",
   "execution_count": 13,
   "metadata": {},
   "outputs": [
    {
     "name": "stderr",
     "output_type": "stream",
     "text": [
      "<ipython-input-13-9b8d8f4cdfb5>:9: MatplotlibDeprecationWarning: Case-insensitive properties were deprecated in 3.3 and support will be removed two minor releases later\n",
      "  line0, = plt.plot(epochs_gd, objvals_gd, '--b', LineWidth=4)\n",
      "<ipython-input-13-9b8d8f4cdfb5>:10: MatplotlibDeprecationWarning: Case-insensitive properties were deprecated in 3.3 and support will be removed two minor releases later\n",
      "  line1, = plt.plot(epochs_sgd, objvals_sgd, '-r', LineWidth=2)\n",
      "<ipython-input-13-9b8d8f4cdfb5>:11: MatplotlibDeprecationWarning: Case-insensitive properties were deprecated in 3.3 and support will be removed two minor releases later\n",
      "  plt.xlabel('Epochs', FontSize=20)\n",
      "<ipython-input-13-9b8d8f4cdfb5>:12: MatplotlibDeprecationWarning: Case-insensitive properties were deprecated in 3.3 and support will be removed two minor releases later\n",
      "  plt.ylabel('Objective Value', FontSize=20)\n",
      "<ipython-input-13-9b8d8f4cdfb5>:13: MatplotlibDeprecationWarning: Case-insensitive properties were deprecated in 3.3 and support will be removed two minor releases later\n",
      "  plt.xticks(FontSize=16)\n",
      "<ipython-input-13-9b8d8f4cdfb5>:14: MatplotlibDeprecationWarning: Case-insensitive properties were deprecated in 3.3 and support will be removed two minor releases later\n",
      "  plt.yticks(FontSize=16)\n"
     ]
    },
    {
     "data": {
      "image/png": "[encoded data removed]",
      "text/plain": [
       "<Figure size 432x288 with 1 Axes>"
      ]
     },
     "metadata": {
      "needs_background": "light"
     },
     "output_type": "display_data"
    }
   ],
   "source": [
    "import matplotlib.pyplot as plt\n",
    "%matplotlib inline\n",
    "\n",
    "fig = plt.figure(figsize=(6, 4))\n",
    "\n",
    "epochs_gd = range(len(objvals_gd))\n",
    "epochs_sgd = range(len(objvals_sgd))\n",
    "\n",
    "line0, = plt.plot(epochs_gd, objvals_gd, '--b', LineWidth=4)\n",
    "line1, = plt.plot(epochs_sgd, objvals_sgd, '-r', LineWidth=2)\n",
    "plt.xlabel('Epochs', FontSize=20)\n",
    "plt.ylabel('Objective Value', FontSize=20)\n",
    "plt.xticks(FontSize=16)\n",
    "plt.yticks(FontSize=16)\n",
    "plt.legend([line0, line1], ['GD', 'SGD'], fontsize=20)\n",
    "plt.tight_layout()\n",
    "plt.show()\n",
    "fig.savefig('compare_gd_sgd.pdf', format='pdf', dpi=1200)"
   ]
  },
  {
   "cell_type": "markdown",
   "metadata": {},
   "source": [
    "# 5. Prediction"
   ]
  },
  {
   "cell_type": "code",
   "execution_count": 14,
   "metadata": {},
   "outputs": [],
   "source": [
    "# Predict class label\n",
    "# Inputs:\n",
    "#     w: d-by-1 matrix\n",
    "#     X: m-by-d matrix\n",
    "# Return:\n",
    "#     f: m-by-1 matrix, the predictions\n",
    "def predict(w, X):\n",
    "    xw = numpy.dot(X, w)\n",
    "    f = numpy.sign(xw)\n",
    "    return f"
   ]
  },
  {
   "cell_type": "code",
   "execution_count": 15,
   "metadata": {},
   "outputs": [
    {
     "name": "stdout",
     "output_type": "stream",
     "text": [
      "Training classification error is 0.221875\n"
     ]
    }
   ],
   "source": [
    "# evaluate training error\n",
    "f_train = predict(w, x_train)\n",
    "diff = numpy.abs(f_train - y_train) / 2\n",
    "error_train = numpy.mean(diff)\n",
    "print('Training classification error is ' + str(error_train))"
   ]
  },
  {
   "cell_type": "code",
   "execution_count": 16,
   "metadata": {},
   "outputs": [
    {
     "name": "stdout",
     "output_type": "stream",
     "text": [
      "Test classification error is 0.2109375\n"
     ]
    }
   ],
   "source": [
    "# evaluate test error\n",
    "f_test = predict(w, x_test)\n",
    "diff = numpy.abs(f_test - y_test) / 2\n",
    "error_test = numpy.mean(diff)\n",
    "print('Test classification error is ' + str(error_test))"
   ]
  },
  {
   "cell_type": "markdown",
   "metadata": {},
   "source": [
    "# 6. Mini-batch SGD (fill the code)\n",
    "\n"
   ]
  },
  {
   "cell_type": "markdown",
   "metadata": {},
   "source": [
    "## 6.1. Compute the objective $Q_I$ and its gradient using a batch of samples\n",
    "\n",
    "Define $Q_I (w) = \\frac{1}{b} \\sum_{i \\in I} \\log \\Big( 1 + \\exp \\big( - y_i x_i^T w \\big) \\Big) + \\frac{\\lambda}{2} \\| w \\|_2^2 $, where $I$ is a set containing $b$ indices randomly drawn from $\\{ 1, \\cdots , n \\}$ without replacement.\n",
    "\n",
    "The stochastic gradient at $w$ is $g_I = \\frac{\\partial Q_I }{ \\partial w} = \\frac{1}{b} \\sum_{i \\in I} \\frac{- y_i x_i }{1 + \\exp ( y_i x_i^T w)} + \\lambda w$."
   ]
  },
  {
   "cell_type": "code",
   "execution_count": 22,
   "metadata": {},
   "outputs": [],
   "source": [
    "# Calculate the objective Q_I and the gradient of Q_I\n",
    "# Inputs:\n",
    "#     w: d-by-1 matrix\n",
    "#     xi: b-by-d matrix\n",
    "#     yi: b-by-1 matrix\n",
    "#     lam: scalar, the regularization parameter\n",
    "#     b: integer, the batch size\n",
    "# Return:\n",
    "#     obj: scalar, the objective Q_i\n",
    "#     g: d-by-1 matrix, gradient of Q_i\n",
    "def mb_stochastic_objective_gradient(w, xi, yi, lam, b):\n",
    "    # Fill the function\n",
    "    # Follow the implementation of stochastic_objective_gradient\n",
    "    # Use matrix-vector multiplication; do not use FOR LOOP of vector-vector multiplications\n",
    "    ...\n",
    "    # Get shape\n",
    "    b, d = xi.shape\n",
    "    \n",
    "    yx = numpy.multiply(yi, xi) # b-by-d matrix\n",
    "    yxw = numpy.dot(yx, w) # b-by-1 matrix\n",
    "    \n",
    "    # Calculate objective function QI\n",
    "    arg = numpy.exp(-yxw) # b-by-1 matrix\n",
    "    log = numpy.log(1 + arg) # b-by-1 matrix\n",
    "    loss = numpy.mean(log) # scalar\n",
    "    obj = loss + ((lam / 2) * numpy.sum(w * w)) # scalar\n",
    "    \n",
    "    # Calculate stochastic gradient\n",
    "    grad_denom = 1 + numpy.exp(yxw) # b-by-1 matrix\n",
    "    grad_frac = numpy.divide(yx, grad_denom) # b-by-d matrix\n",
    "    grad = -numpy.mean(grad_frac, axis=0).reshape(d, 1) # d-by-1 matrix\n",
    "    g = grad + (lam * w)\n",
    "    \n",
    "    return obj, g"
   ]
  },
  {
   "cell_type": "markdown",
   "metadata": {},
   "source": [
    "## 6.2. Implement mini-batch SGD\n",
    "\n",
    "Hints:\n",
    "1. In every epoch, randomly permute the $n$ samples (just like SGD).\n",
    "2. Each epoch has $\\frac{n}{b}$ iterations. In every iteration, use $b$ samples, and compute the gradient and objective using the ``mb_stochastic_objective_gradient`` function. In the next iteration, use the next $b$ samples, and so on.\n"
   ]
  },
  {
   "cell_type": "code",
   "execution_count": 23,
   "metadata": {},
   "outputs": [],
   "source": [
    "# Mini-Batch SGD for solving logistic regression\n",
    "# Inputs:\n",
    "#     x: n-by-d matrix\n",
    "#     y: n-by-1 matrix\n",
    "#     lam: scalar, the regularization parameter\n",
    "#     b: integer, the batch size\n",
    "#     stepsize: scalar\n",
    "#     max_epoch: integer, the maximal epochs\n",
    "#     w: d-by-1 matrix, initialization of w\n",
    "# Return:\n",
    "#     w: the solution\n",
    "#     objvals: record of each iteration's objective value\n",
    "def mb_sgd(x, y, lam, b, stepsize, max_epoch=100, w=None):\n",
    "    # Fill the function\n",
    "    # Follow the implementation of sgd\n",
    "    # Record one objective value per epoch (not per iteration!)\n",
    "    ...\n",
    "    n, d = x.shape\n",
    "    objvals = numpy.zeros(max_epoch) # Store objective values\n",
    "    \n",
    "    if w is None:\n",
    "        w = numpy.zeros((d, 1)) # Zero initialization\n",
    "    \n",
    "    # Epochs\n",
    "    for t in range(max_epoch):\n",
    "        # Randomly shuffle the samples\n",
    "        rand_indices = numpy.random.permutation(n)\n",
    "        \n",
    "        # Split data into batches (number of batches = n / b)\n",
    "        batches = [rand_indices[i:i + b] for i in \n",
    "                   range(0, len(rand_indices), b)]\n",
    "        \n",
    "        # Iterations\n",
    "        # Accumulate objective values\n",
    "        objval = 0\n",
    "        \n",
    "        for batch in batches:\n",
    "            # Get batch\n",
    "            xi = x[batch, :] # b-by-d matrix \n",
    "            yi = y[batch, :] # b-by-1 matrix\n",
    "\n",
    "            # Get objective and gradient\n",
    "            obj, g = mb_stochastic_objective_gradient(w, xi, yi, lam, b)\n",
    "            objval += obj\n",
    "            \n",
    "            # Update gradient\n",
    "            w -= stepsize * g\n",
    "            \n",
    "        # Decrease step size\n",
    "        stepsize *= 0.9\n",
    "        \n",
    "        # Get average objective value\n",
    "        objvals[t] = objval / (n/b)\n",
    "        print('Objective value at epoch t=' + str(t) + ' is ' + str(objval / (n/b)))\n",
    "            \n",
    "    return w, objvals"
   ]
  },
  {
   "cell_type": "markdown",
   "metadata": {},
   "source": [
    "## 6.3. Run MB-SGD"
   ]
  },
  {
   "cell_type": "code",
   "execution_count": 24,
   "metadata": {
    "scrolled": false
   },
   "outputs": [
    {
     "name": "stdout",
     "output_type": "stream",
     "text": [
      "Objective value at epoch t=0 is 0.530253554334808\n",
      "Objective value at epoch t=1 is 0.4905092666054284\n",
      "Objective value at epoch t=2 is 0.4901491747025714\n",
      "Objective value at epoch t=3 is 0.48816910298857\n",
      "Objective value at epoch t=4 is 0.48561956111482063\n",
      "Objective value at epoch t=5 is 0.4854149112574614\n",
      "Objective value at epoch t=6 is 0.4858845120279174\n",
      "Objective value at epoch t=7 is 0.48410970482360166\n",
      "Objective value at epoch t=8 is 0.48442496839638227\n",
      "Objective value at epoch t=9 is 0.48399170990849105\n",
      "Objective value at epoch t=10 is 0.48356583840657663\n",
      "Objective value at epoch t=11 is 0.4825396995741304\n",
      "Objective value at epoch t=12 is 0.4826833143403927\n",
      "Objective value at epoch t=13 is 0.4822471437178216\n",
      "Objective value at epoch t=14 is 0.48226011334320285\n",
      "Objective value at epoch t=15 is 0.48139065443439055\n",
      "Objective value at epoch t=16 is 0.4813213650878267\n",
      "Objective value at epoch t=17 is 0.4812836094661116\n",
      "Objective value at epoch t=18 is 0.4807389911741997\n",
      "Objective value at epoch t=19 is 0.48051849604187424\n",
      "Objective value at epoch t=20 is 0.4801636147466565\n",
      "Objective value at epoch t=21 is 0.4802687458855569\n",
      "Objective value at epoch t=22 is 0.4801707931359667\n",
      "Objective value at epoch t=23 is 0.47994724956660784\n",
      "Objective value at epoch t=24 is 0.47981835209601176\n",
      "Objective value at epoch t=25 is 0.47972125466178006\n",
      "Objective value at epoch t=26 is 0.47974510443003604\n",
      "Objective value at epoch t=27 is 0.47951797365008686\n",
      "Objective value at epoch t=28 is 0.47946899984447844\n",
      "Objective value at epoch t=29 is 0.47940669143694664\n",
      "Objective value at epoch t=30 is 0.47933163522511524\n",
      "Objective value at epoch t=31 is 0.4792827124600455\n",
      "Objective value at epoch t=32 is 0.47928139837363987\n",
      "Objective value at epoch t=33 is 0.4792066353598929\n",
      "Objective value at epoch t=34 is 0.4791360780979578\n",
      "Objective value at epoch t=35 is 0.47910182626270953\n",
      "Objective value at epoch t=36 is 0.47906570680264526\n",
      "Objective value at epoch t=37 is 0.47906572405195674\n",
      "Objective value at epoch t=38 is 0.47901381589279274\n",
      "Objective value at epoch t=39 is 0.4789748068154937\n",
      "Objective value at epoch t=40 is 0.47897109327462006\n",
      "Objective value at epoch t=41 is 0.4789439386891585\n",
      "Objective value at epoch t=42 is 0.47892845574249077\n",
      "Objective value at epoch t=43 is 0.47891107196302773\n",
      "Objective value at epoch t=44 is 0.47888582353196546\n",
      "Objective value at epoch t=45 is 0.47887843463611235\n",
      "Objective value at epoch t=46 is 0.4788702836906163\n",
      "Objective value at epoch t=47 is 0.4788564657263178\n",
      "Objective value at epoch t=48 is 0.47885719829912743\n",
      "Objective value at epoch t=49 is 0.47883182628616094\n",
      "Objective value at epoch t=50 is 0.47882794651678334\n",
      "Objective value at epoch t=51 is 0.47881545804803605\n",
      "Objective value at epoch t=52 is 0.47881073334254454\n",
      "Objective value at epoch t=53 is 0.4788073763410171\n",
      "Objective value at epoch t=54 is 0.4788085650196624\n",
      "Objective value at epoch t=55 is 0.4788009739804179\n",
      "Objective value at epoch t=56 is 0.4787972547528453\n",
      "Objective value at epoch t=57 is 0.4787897474998335\n",
      "Objective value at epoch t=58 is 0.47878867571532746\n",
      "Objective value at epoch t=59 is 0.47878432953852\n",
      "Objective value at epoch t=60 is 0.478780983469617\n",
      "Objective value at epoch t=61 is 0.4787779441020274\n",
      "Objective value at epoch t=62 is 0.4787773253204796\n",
      "Objective value at epoch t=63 is 0.4787745583485162\n",
      "Objective value at epoch t=64 is 0.47877231667314346\n",
      "Objective value at epoch t=65 is 0.4787701970349179\n",
      "Objective value at epoch t=66 is 0.4787682060449261\n",
      "Objective value at epoch t=67 is 0.47876774849154485\n",
      "Objective value at epoch t=68 is 0.4787661099626079\n",
      "Objective value at epoch t=69 is 0.4787662853848812\n",
      "Objective value at epoch t=70 is 0.4787646047267041\n",
      "Objective value at epoch t=71 is 0.4787631287543149\n",
      "Objective value at epoch t=72 is 0.47876287298042663\n",
      "Objective value at epoch t=73 is 0.4787621345145686\n",
      "Objective value at epoch t=74 is 0.4787611691051101\n",
      "Objective value at epoch t=75 is 0.47876104919317014\n",
      "Objective value at epoch t=76 is 0.47876035106945214\n",
      "Objective value at epoch t=77 is 0.47875980606675306\n",
      "Objective value at epoch t=78 is 0.4787593020149843\n",
      "Objective value at epoch t=79 is 0.47875889134352356\n",
      "Objective value at epoch t=80 is 0.4787585583817493\n",
      "Objective value at epoch t=81 is 0.47875843890837133\n",
      "Objective value at epoch t=82 is 0.4787581487504079\n",
      "Objective value at epoch t=83 is 0.47875769940508883\n",
      "Objective value at epoch t=84 is 0.47875763515376535\n",
      "Objective value at epoch t=85 is 0.4787572244750516\n",
      "Objective value at epoch t=86 is 0.4787572566246804\n",
      "Objective value at epoch t=87 is 0.4787569051231193\n",
      "Objective value at epoch t=88 is 0.47875675891373265\n",
      "Objective value at epoch t=89 is 0.4787567001460792\n",
      "Objective value at epoch t=90 is 0.4787566941961242\n",
      "Objective value at epoch t=91 is 0.4787564253835348\n",
      "Objective value at epoch t=92 is 0.47875637320837566\n",
      "Objective value at epoch t=93 is 0.4787563272261859\n",
      "Objective value at epoch t=94 is 0.47875625563932234\n",
      "Objective value at epoch t=95 is 0.47875612251160937\n",
      "Objective value at epoch t=96 is 0.47875608826690136\n",
      "Objective value at epoch t=97 is 0.4787559860530258\n",
      "Objective value at epoch t=98 is 0.4787559661707653\n",
      "Objective value at epoch t=99 is 0.47875590997571094\n"
     ]
    }
   ],
   "source": [
    "# MB-SGD with batch size b=8\n",
    "lam = 1E-6 # do not change\n",
    "b = 8 # do not change\n",
    "stepsize = 0.15 # you must tune this parameter \n",
    "\n",
    "w, objvals_mbsgd8 = mb_sgd(x_train, y_train, lam, b, stepsize)"
   ]
  },
  {
   "cell_type": "code",
   "execution_count": 25,
   "metadata": {},
   "outputs": [
    {
     "name": "stdout",
     "output_type": "stream",
     "text": [
      "Objective value at epoch t=0 is 0.5504836151820902\n",
      "Objective value at epoch t=1 is 0.49148065869244223\n",
      "Objective value at epoch t=2 is 0.4869783089964958\n",
      "Objective value at epoch t=3 is 0.4843488090805429\n",
      "Objective value at epoch t=4 is 0.4856320462890844\n",
      "Objective value at epoch t=5 is 0.48372699490106913\n",
      "Objective value at epoch t=6 is 0.4834086219009075\n",
      "Objective value at epoch t=7 is 0.4836462152577468\n",
      "Objective value at epoch t=8 is 0.48147891590897085\n",
      "Objective value at epoch t=9 is 0.48248519613861596\n",
      "Objective value at epoch t=10 is 0.48220694447117785\n",
      "Objective value at epoch t=11 is 0.48166823416671256\n",
      "Objective value at epoch t=12 is 0.48191815329542925\n",
      "Objective value at epoch t=13 is 0.48127299403342805\n",
      "Objective value at epoch t=14 is 0.48090499726467933\n",
      "Objective value at epoch t=15 is 0.4809269123725707\n",
      "Objective value at epoch t=16 is 0.4805201380201722\n",
      "Objective value at epoch t=17 is 0.48047794548434075\n",
      "Objective value at epoch t=18 is 0.48082342046200377\n",
      "Objective value at epoch t=19 is 0.48042883671839487\n",
      "Objective value at epoch t=20 is 0.4799818404597177\n",
      "Objective value at epoch t=21 is 0.4797664565213592\n",
      "Objective value at epoch t=22 is 0.47960381786230044\n",
      "Objective value at epoch t=23 is 0.4794491276899011\n",
      "Objective value at epoch t=24 is 0.4794337028913313\n",
      "Objective value at epoch t=25 is 0.4793134206848822\n",
      "Objective value at epoch t=26 is 0.4794209800880161\n",
      "Objective value at epoch t=27 is 0.47939080668155293\n",
      "Objective value at epoch t=28 is 0.47928950322464825\n",
      "Objective value at epoch t=29 is 0.47912215693367494\n",
      "Objective value at epoch t=30 is 0.4790725219846882\n",
      "Objective value at epoch t=31 is 0.4790640842885173\n",
      "Objective value at epoch t=32 is 0.4790825082825153\n",
      "Objective value at epoch t=33 is 0.4790319744467668\n",
      "Objective value at epoch t=34 is 0.47903803558200214\n",
      "Objective value at epoch t=35 is 0.4789486942982871\n",
      "Objective value at epoch t=36 is 0.4790198600617752\n",
      "Objective value at epoch t=37 is 0.4789436452787469\n",
      "Objective value at epoch t=38 is 0.47889488098466354\n",
      "Objective value at epoch t=39 is 0.4788913023636748\n",
      "Objective value at epoch t=40 is 0.4788550197010559\n",
      "Objective value at epoch t=41 is 0.4788740948256682\n",
      "Objective value at epoch t=42 is 0.4788604587329994\n",
      "Objective value at epoch t=43 is 0.4788760848899341\n",
      "Objective value at epoch t=44 is 0.4788294446337922\n",
      "Objective value at epoch t=45 is 0.47884002872620285\n",
      "Objective value at epoch t=46 is 0.4788263556513094\n",
      "Objective value at epoch t=47 is 0.47882520721341243\n",
      "Objective value at epoch t=48 is 0.4788302341234287\n",
      "Objective value at epoch t=49 is 0.47880652625672254\n",
      "Objective value at epoch t=50 is 0.4787883297951495\n",
      "Objective value at epoch t=51 is 0.47879913622447223\n",
      "Objective value at epoch t=52 is 0.4787920009802672\n",
      "Objective value at epoch t=53 is 0.4787916771926569\n",
      "Objective value at epoch t=54 is 0.47878260138022277\n",
      "Objective value at epoch t=55 is 0.4787824685760039\n",
      "Objective value at epoch t=56 is 0.4787839847803901\n",
      "Objective value at epoch t=57 is 0.4787793506166088\n",
      "Objective value at epoch t=58 is 0.47877582814446296\n",
      "Objective value at epoch t=59 is 0.47877248385165905\n",
      "Objective value at epoch t=60 is 0.4787695310724094\n",
      "Objective value at epoch t=61 is 0.47876954902275043\n",
      "Objective value at epoch t=62 is 0.47877033708147965\n",
      "Objective value at epoch t=63 is 0.4787682631282707\n",
      "Objective value at epoch t=64 is 0.47876637289343515\n",
      "Objective value at epoch t=65 is 0.4787651108980924\n",
      "Objective value at epoch t=66 is 0.478768259236017\n",
      "Objective value at epoch t=67 is 0.4787657040998936\n",
      "Objective value at epoch t=68 is 0.47876140104493\n",
      "Objective value at epoch t=69 is 0.478762491617169\n",
      "Objective value at epoch t=70 is 0.4787622341737484\n",
      "Objective value at epoch t=71 is 0.4787616963190685\n",
      "Objective value at epoch t=72 is 0.4787609119517365\n",
      "Objective value at epoch t=73 is 0.4787590897220316\n",
      "Objective value at epoch t=74 is 0.47875935576335493\n",
      "Objective value at epoch t=75 is 0.4787594026775774\n",
      "Objective value at epoch t=76 is 0.4787591500015099\n",
      "Objective value at epoch t=77 is 0.47875874045170963\n",
      "Objective value at epoch t=78 is 0.4787575374179429\n",
      "Objective value at epoch t=79 is 0.4787577122091687\n",
      "Objective value at epoch t=80 is 0.47875738291115144\n",
      "Objective value at epoch t=81 is 0.47875743327922005\n",
      "Objective value at epoch t=82 is 0.4787571662930386\n",
      "Objective value at epoch t=83 is 0.47875775879173543\n",
      "Objective value at epoch t=84 is 0.47875689130491156\n",
      "Objective value at epoch t=85 is 0.47875679255971393\n",
      "Objective value at epoch t=86 is 0.4787568697547656\n",
      "Objective value at epoch t=87 is 0.47875652772742255\n",
      "Objective value at epoch t=88 is 0.47875646205801187\n",
      "Objective value at epoch t=89 is 0.4787563496605002\n",
      "Objective value at epoch t=90 is 0.4787562524566697\n",
      "Objective value at epoch t=91 is 0.47875626984157993\n",
      "Objective value at epoch t=92 is 0.4787561162282432\n",
      "Objective value at epoch t=93 is 0.4787560900635596\n",
      "Objective value at epoch t=94 is 0.47875608618456644\n",
      "Objective value at epoch t=95 is 0.47875608991239893\n",
      "Objective value at epoch t=96 is 0.47875600358624515\n",
      "Objective value at epoch t=97 is 0.4787559418242758\n",
      "Objective value at epoch t=98 is 0.4787560361841766\n",
      "Objective value at epoch t=99 is 0.47875599562142684\n"
     ]
    }
   ],
   "source": [
    "# MB-SGD with batch size b=64\n",
    "lam = 1E-6 # do not change\n",
    "b = 64 # do not change\n",
    "stepsize = 0.85 # you must tune this parameter\n",
    "\n",
    "w, objvals_mbsgd64 = mb_sgd(x_train, y_train, lam, b, stepsize)"
   ]
  },
  {
   "cell_type": "markdown",
   "metadata": {},
   "source": [
    "# 7. Plot and compare GD, SGD, and MB-SGD"
   ]
  },
  {
   "cell_type": "markdown",
   "metadata": {},
   "source": [
    "You are required to compare the following algorithms:\n",
    "\n",
    "- Gradient descent (GD)\n",
    "\n",
    "- SGD\n",
    "\n",
    "- MB-SGD with b=8\n",
    "\n",
    "- MB-SGD with b=64\n",
    "\n",
    "Follow the code in Section 4 to plot ```objective function value``` against ```epochs```. There should be four curves in the plot; each curve corresponds to one algorithm."
   ]
  },
  {
   "cell_type": "markdown",
   "metadata": {},
   "source": [
    "Hint: Logistic regression with $\\ell_2$-norm regularization is a strongly convex optimization problem. All the algorithms will converge to the same solution. **In the end, the ``objective function value`` of the 4 algorithms will be the same. If not the same, your implementation must be wrong. Do NOT submit wrong code and wrong result!**"
   ]
  },
  {
   "cell_type": "code",
   "execution_count": 26,
   "metadata": {},
   "outputs": [
    {
     "data": {
      "image/png": "[encoded data removed]",
      "text/plain": [
       "<Figure size 432x288 with 1 Axes>"
      ]
     },
     "metadata": {
      "needs_background": "light"
     },
     "output_type": "display_data"
    }
   ],
   "source": [
    "# plot the 4 curves:\n",
    "\n",
    "fig = plt.figure(figsize=(6, 4))\n",
    "\n",
    "epochs_gd = range(len(objvals_gd))\n",
    "epochs_sgd = range(len(objvals_sgd))\n",
    "epochs_mbsgd8 = range(len(objvals_mbsgd8))\n",
    "epochs_mbsgd64 = range(len(objvals_mbsgd64))\n",
    "\n",
    "line0, = plt.plot(epochs_gd, objvals_gd, '--b', linewidth=4, label= 'GD')\n",
    "line1, = plt.plot(epochs_sgd, objvals_sgd, 'r', linewidth=2, label='SGD')\n",
    "line2 = plt.plot(epochs_mbsgd8, objvals_mbsgd8, '--g', linewidth=4, label='MB_SGD_8')\n",
    "line3 = plt.plot(epochs_mbsgd64, objvals_mbsgd64, 'orange', linewidth=2, label='MB_SGD_64')\n",
    "\n",
    "plt.xlabel('Epochs', fontsize=15)\n",
    "plt.ylabel('Objective Value', fontsize=15)\n",
    "plt.xticks(fontsize=10)\n",
    "plt.yticks(fontsize=10)\n",
    "plt.legend(fontsize=10)\n",
    "plt.tight_layout()\n",
    "plt.show()\n",
    "fig.savefig('compare_gd_sgd.pdf', format='pdf', dpi=1200)"
   ]
  }
 ],
 "metadata": {
  "kernelspec": {
   "display_name": "Python 3",
   "language": "python",
   "name": "python3"
  },
  "language_info": {
   "codemirror_mode": {
    "name": "ipython",
    "version": 3
   },
   "file_extension": ".py",
   "mimetype": "text/x-python",
   "name": "python",
   "nbconvert_exporter": "python",
   "pygments_lexer": "ipython3",
   "version": "3.8.5"
  }
 },
 "nbformat": 4,
 "nbformat_minor": 2
}
